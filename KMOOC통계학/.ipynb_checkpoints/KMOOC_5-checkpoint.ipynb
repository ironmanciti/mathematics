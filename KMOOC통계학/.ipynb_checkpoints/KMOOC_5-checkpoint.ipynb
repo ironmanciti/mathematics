{
 "cells": [
  {
   "cell_type": "markdown",
   "metadata": {},
   "source": [
    "# KMOOC-5\n",
    "\n",
    "## 경우의 수 계산\n",
    "\n",
    "### 순열\n",
    "$\\Large \\frac{n!}{(n-k)!}$"
   ]
  },
  {
   "cell_type": "code",
   "execution_count": 40,
   "metadata": {},
   "outputs": [],
   "source": [
    "import math\n",
    "import numpy as np\n",
    "from scipy import special\n",
    "\n",
    "n = 10\n",
    "k = 3"
   ]
  },
  {
   "cell_type": "code",
   "execution_count": 41,
   "metadata": {},
   "outputs": [
    {
     "data": {
      "text/plain": [
       "720.0"
      ]
     },
     "execution_count": 41,
     "metadata": {},
     "output_type": "execute_result"
    }
   ],
   "source": [
    "math.factorial(n) / math.factorial(n - k)"
   ]
  },
  {
   "cell_type": "markdown",
   "metadata": {},
   "source": [
    "**factorial 은 n 이 커지면 사용할 수 없음**"
   ]
  },
  {
   "cell_type": "code",
   "execution_count": 42,
   "metadata": {},
   "outputs": [
    {
     "data": {
      "text/plain": [
       "720"
      ]
     },
     "execution_count": 42,
     "metadata": {},
     "output_type": "execute_result"
    }
   ],
   "source": [
    "np.prod(range(n-k+1, n+1))      #same as above"
   ]
  },
  {
   "cell_type": "markdown",
   "metadata": {},
   "source": [
    "### 중복순열 \n",
    "\n",
    "$\\Large n^k$"
   ]
  },
  {
   "cell_type": "markdown",
   "metadata": {},
   "source": [
    "### 조합\n",
    "\n",
    "$\\Large{n\\choose k}$"
   ]
  },
  {
   "cell_type": "code",
   "execution_count": 43,
   "metadata": {},
   "outputs": [
    {
     "data": {
      "text/plain": [
       "120.0"
      ]
     },
     "execution_count": 43,
     "metadata": {},
     "output_type": "execute_result"
    }
   ],
   "source": [
    "special.comb(n, k)"
   ]
  },
  {
   "cell_type": "markdown",
   "metadata": {},
   "source": [
    "### 중복조합\n",
    "\n",
    "$\\Large {n+k-1\\choose k}$"
   ]
  },
  {
   "cell_type": "code",
   "execution_count": 44,
   "metadata": {},
   "outputs": [
    {
     "data": {
      "text/plain": [
       "220.0"
      ]
     },
     "execution_count": 44,
     "metadata": {},
     "output_type": "execute_result"
    }
   ],
   "source": [
    "special.comb(n+k-1, k)"
   ]
  },
  {
   "cell_type": "markdown",
   "metadata": {},
   "source": [
    "## Birthday Problem\n",
    "\n",
    "### 1 년을 365 일이라고 할 때 k 명이 모두 다른 생일을 가질 확률\n",
    "\n",
    "#### 1) 고전적 확률 : 365 일 각각의 날에 태어날 가능성이 동일\n",
    "$P(A) = \\large{ \\frac{{365!}/{(365-k)!}}{365^k}}$"
   ]
  },
  {
   "cell_type": "code",
   "execution_count": 49,
   "metadata": {},
   "outputs": [],
   "source": [
    "members = [5, 10, 20, 30, 40, 50]"
   ]
  },
  {
   "cell_type": "code",
   "execution_count": 53,
   "metadata": {},
   "outputs": [
    {
     "name": "stdout",
     "output_type": "stream",
     "text": [
      "97.3%\n",
      "88.3%\n",
      "58.9%\n",
      "29.4%\n",
      "10.9%\n",
      "3.0%\n"
     ]
    }
   ],
   "source": [
    "for k in members:\n",
    "    print(str(round((math.factorial(365) / math.factorial(365-k)) / 365 ** k * 100, 1)) + '%')"
   ]
  },
  {
   "cell_type": "markdown",
   "metadata": {},
   "source": [
    "#### 2) 월별로 하루 평균 출생아 수가 다를 경우의 확률"
   ]
  },
  {
   "cell_type": "code",
   "execution_count": 117,
   "metadata": {},
   "outputs": [],
   "source": [
    "dailyAvg = [1427, 1309, 1243, 1255, 1149, 1105, 1167, 1175, 1235, 1163, 1128, 1031]   # 월별 평균 출생아 수\n",
    "months = [31, 28, 31, 30, 31, 30, 31, 31, 30, 31, 30, 31]                                                # 월의 일자\n",
    "birth = []    # 일별 출생아 수\n",
    "birth_prob = []"
   ]
  },
  {
   "cell_type": "code",
   "execution_count": 118,
   "metadata": {},
   "outputs": [],
   "source": [
    "for i, days in enumerate(months):\n",
    "    for _ in range(days):\n",
    "        birth.append(dailyAvg[i])"
   ]
  },
  {
   "cell_type": "code",
   "execution_count": 119,
   "metadata": {},
   "outputs": [],
   "source": [
    "for b in birth:\n",
    "    birth_prob.append(b / sum(birth))"
   ]
  },
  {
   "cell_type": "code",
   "execution_count": 120,
   "metadata": {},
   "outputs": [],
   "source": [
    "n = 365\n",
    "k = 50"
   ]
  },
  {
   "cell_type": "code",
   "execution_count": 121,
   "metadata": {},
   "outputs": [
    {
     "data": {
      "text/plain": [
       "array([ 17,  65, 285, 335,   6, 160, 214,  87,  54, 213,  77,  33, 131,\n",
       "       321, 222,  46, 230,  80, 301,  31, 324,  14, 148, 331,  45,  79,\n",
       "        10, 276, 164, 249,  89, 292,  30, 205, 320,  30, 317, 360,  57,\n",
       "       252, 352, 276, 139, 122, 283, 121, 320, 174, 156,  87], dtype=int64)"
      ]
     },
     "execution_count": 121,
     "metadata": {},
     "output_type": "execute_result"
    }
   ],
   "source": [
    "X = np.random.choice(n, k, replace=True, p=birth_prob)          # 365 일 중 50 일 선택 - 같은 날짜가 선택되면 생일이 같은 사람\n",
    "X"
   ]
  },
  {
   "cell_type": "code",
   "execution_count": 122,
   "metadata": {},
   "outputs": [
    {
     "data": {
      "text/plain": [
       "array([  6,  10,  14,  17,  30,  31,  33,  45,  46,  54,  57,  65,  77,\n",
       "        79,  80,  87,  89, 121, 122, 131, 139, 148, 156, 160, 164, 174,\n",
       "       205, 213, 214, 222, 230, 249, 252, 276, 283, 285, 292, 301, 317,\n",
       "       320, 321, 324, 331, 335, 352, 360], dtype=int64)"
      ]
     },
     "execution_count": 122,
     "metadata": {},
     "output_type": "execute_result"
    }
   ],
   "source": [
    "np.unique(X)"
   ]
  },
  {
   "cell_type": "code",
   "execution_count": 123,
   "metadata": {},
   "outputs": [
    {
     "data": {
      "text/plain": [
       "46"
      ]
     },
     "execution_count": 123,
     "metadata": {},
     "output_type": "execute_result"
    }
   ],
   "source": [
    "len(np.unique(X))"
   ]
  },
  {
   "cell_type": "code",
   "execution_count": 125,
   "metadata": {},
   "outputs": [
    {
     "data": {
      "text/plain": [
       "False"
      ]
     },
     "execution_count": 125,
     "metadata": {},
     "output_type": "execute_result"
    }
   ],
   "source": [
    "len(np.unique(X)) == k"
   ]
  },
  {
   "cell_type": "markdown",
   "metadata": {},
   "source": [
    "#### 위 작업 (50 명의 생일이 모두 다를 확률 계산)을 10,000 번 반복"
   ]
  },
  {
   "cell_type": "code",
   "execution_count": 128,
   "metadata": {},
   "outputs": [
    {
     "name": "stdout",
     "output_type": "stream",
     "text": [
      "모두 생일이 다른 경우 : 270\n",
      "모두 생일이 다를 확률 : 0.027\n"
     ]
    }
   ],
   "source": [
    "result = 0\n",
    "for i in range(10000):\n",
    "    X = np.random.choice(n, k, replace=True, p=birth_prob)\n",
    "    result += len(np.unique(X)) == k           # k 명의 생일이 모두 다른 경우 누적\n",
    "\n",
    "print(\"모두 생일이 다른 경우 :\", result)\n",
    "print(\"모두 생일이 다를 확률 :\", result / 10000)"
   ]
  },
  {
   "cell_type": "markdown",
   "metadata": {},
   "source": [
    "## 표준정규분포의 면적 계산 (-1, 1.95) by Monte Carlo 적분\n",
    "\n",
    "#### 정규분포의 확률밀도 함수 :  scipy.stats.norm.pdf(x)  \n",
    "#### 정규분포의 누적분포 함수 :  scipy.stats.norm.cdf(x)\n",
    "#### 균일분포의 난수추출 함수 :  numpy.random.uniform(low, high, size)"
   ]
  },
  {
   "cell_type": "code",
   "execution_count": 131,
   "metadata": {},
   "outputs": [],
   "source": [
    "from scipy.stats import norm\n",
    "import matplotlib.pyplot as plt"
   ]
  },
  {
   "cell_type": "code",
   "execution_count": 158,
   "metadata": {},
   "outputs": [
    {
     "data": {
      "text/plain": [
       "<matplotlib.legend.Legend at 0x14c47ef6dd8>"
      ]
     },
     "execution_count": 158,
     "metadata": {},
     "output_type": "execute_result"
    },
    {
     "data": {
      "image/png": "[encoded data removed]",
      "text/plain": [
       "<Figure size 432x288 with 1 Axes>"
      ]
     },
     "metadata": {
      "needs_background": "light"
     },
     "output_type": "display_data"
    }
   ],
   "source": [
    "x = np.arange(-3, 3, 0.01)\n",
    "plt.plot(x, norm.pdf(x), 'k-', lw=2, label='f(x)')\n",
    "plt.plot([-3,3], [0,0], 'k-')\n",
    "plt.plot([-1, -1], [0, 0.4], 'b-')\n",
    "plt.plot([1.9, 1.9], [0, 0.4], 'b-')\n",
    "plt.plot([-1, 1.9], [0.4, 0.4], 'b-')\n",
    "plt.plot()\n",
    "plt.legend()"
   ]
  },
  {
   "cell_type": "code",
   "execution_count": 160,
   "metadata": {},
   "outputs": [
    {
     "data": {
      "text/plain": [
       "1.1800000000000002"
      ]
     },
     "execution_count": 160,
     "metadata": {},
     "output_type": "execute_result"
    }
   ],
   "source": [
    "area = (1 + 1.95) * 0.4\n",
    "area"
   ]
  },
  {
   "cell_type": "code",
   "execution_count": 161,
   "metadata": {},
   "outputs": [],
   "source": [
    "no_sims = [500, 1000, 5000, 10000, 50000]"
   ]
  },
  {
   "cell_type": "code",
   "execution_count": 196,
   "metadata": {},
   "outputs": [
    {
     "name": "stdout",
     "output_type": "stream",
     "text": [
      "N =  500 \tratio =  0.732 \tprobability =  0.8638\n",
      "N =  1000 \tratio =  0.704 \tprobability =  0.8307\n",
      "N =  5000 \tratio =  0.6982 \tprobability =  0.8239\n",
      "N =  10000 \tratio =  0.6925 \tprobability =  0.8172\n",
      "N =  50000 \tratio =  0.69142 \tprobability =  0.8159\n"
     ]
    }
   ],
   "source": [
    "for n in no_sims:\n",
    "    x = np.random.uniform(-1, 1.95, n)\n",
    "    y = np.random.uniform(0, 0.4, n)\n",
    "    fx = norm.pdf(x)\n",
    "    ratio = sum(y < fx) / n\n",
    "    print('N = ', n, '\\tratio = ', ratio, '\\tprobability = ', round(ratio*area, 4))"
   ]
  },
  {
   "cell_type": "code",
   "execution_count": 198,
   "metadata": {},
   "outputs": [
    {
     "name": "stdout",
     "output_type": "stream",
     "text": [
      "True probability =  0.8158\n"
     ]
    }
   ],
   "source": [
    "print(\"True probability = \", round(norm.cdf(1.95) - norm.cdf(-1), 4))     #누적 분포 함수"
   ]
  },
  {
   "cell_type": "code",
   "execution_count": null,
   "metadata": {},
   "outputs": [],
   "source": []
  }
 ],
 "metadata": {
  "kernelspec": {
   "display_name": "Python 3",
   "language": "python",
   "name": "python3"
  },
  "language_info": {
   "codemirror_mode": {
    "name": "ipython",
    "version": 3
   },
   "file_extension": ".py",
   "mimetype": "text/x-python",
   "name": "python",
   "nbconvert_exporter": "python",
   "pygments_lexer": "ipython3",
   "version": "3.7.2"
  }
 },
 "nbformat": 4,
 "nbformat_minor": 2
}
