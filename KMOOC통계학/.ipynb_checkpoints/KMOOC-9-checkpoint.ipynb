{
 "cells": [
  {
   "cell_type": "markdown",
   "metadata": {},
   "source": [
    "# KMOOC-9\n",
    "\n",
    "## 이항분포\n",
    "\n",
    "\n",
    "scipy.stats.binom.pmf(k, n, p, loc=0) : Probability mass function "
   ]
  },
  {
   "cell_type": "code",
   "execution_count": 110,
   "metadata": {},
   "outputs": [],
   "source": [
    "from scipy.stats import binom, hypergeom\n",
    "import pandas as pd\n",
    "import numpy as np\n",
    "%matplotlib inline\n",
    "\n",
    "#한글 폰트 사용\n",
    "from matplotlib import font_manager,rc\n",
    "import matplotlib\n",
    "font_path = \"C:/Windows/Fonts/H2GTRM.TTF\"       #폰트 경로\n",
    "font_name = font_manager.FontProperties(fname=font_path).get_name()   #폰트 이름 얻어오기\n",
    "matplotlib.rc('font',family=font_name)   #font 설정"
   ]
  },
  {
   "cell_type": "markdown",
   "metadata": {},
   "source": [
    "### 주사위 세번 던지기: X = 1(앞면) 이 나온 횟수\n",
    "\n",
    "[0, 1, 2, 3]  - 0회, 1회, 2 회, 3 회"
   ]
  },
  {
   "cell_type": "code",
   "execution_count": 18,
   "metadata": {},
   "outputs": [
    {
     "name": "stdout",
     "output_type": "stream",
     "text": [
      "range(0, 4)\n"
     ]
    },
    {
     "data": {
      "text/plain": [
       "array([0.5787037 , 0.34722222, 0.06944444, 0.00462963])"
      ]
     },
     "execution_count": 18,
     "metadata": {},
     "output_type": "execute_result"
    }
   ],
   "source": [
    "x = range(0,4)\n",
    "print(x)\n",
    "binom.pmf(x, 3, 1/6)"
   ]
  },
  {
   "cell_type": "code",
   "execution_count": 20,
   "metadata": {},
   "outputs": [
    {
     "data": {
      "text/plain": [
       "0.06944444444444445"
      ]
     },
     "execution_count": 20,
     "metadata": {},
     "output_type": "execute_result"
    }
   ],
   "source": [
    "binom.pmf(2, 3, 1/6)       # x = 2 (앞면이 두번나온)인 확률"
   ]
  },
  {
   "cell_type": "code",
   "execution_count": 26,
   "metadata": {},
   "outputs": [
    {
     "data": {
      "text/html": [
       "<div>\n",
       "<style scoped>\n",
       "    .dataframe tbody tr th:only-of-type {\n",
       "        vertical-align: middle;\n",
       "    }\n",
       "\n",
       "    .dataframe tbody tr th {\n",
       "        vertical-align: top;\n",
       "    }\n",
       "\n",
       "    .dataframe thead th {\n",
       "        text-align: right;\n",
       "    }\n",
       "</style>\n",
       "<table border=\"1\" class=\"dataframe\">\n",
       "  <thead>\n",
       "    <tr style=\"text-align: right;\">\n",
       "      <th></th>\n",
       "      <th>0</th>\n",
       "      <th>1</th>\n",
       "      <th>2</th>\n",
       "      <th>3</th>\n",
       "      <th>4</th>\n",
       "      <th>5</th>\n",
       "      <th>6</th>\n",
       "      <th>7</th>\n",
       "      <th>8</th>\n",
       "    </tr>\n",
       "  </thead>\n",
       "  <tbody>\n",
       "    <tr>\n",
       "      <th>0</th>\n",
       "      <td>0.057648</td>\n",
       "      <td>0.19765</td>\n",
       "      <td>0.296475</td>\n",
       "      <td>0.254122</td>\n",
       "      <td>0.136137</td>\n",
       "      <td>0.046675</td>\n",
       "      <td>0.010002</td>\n",
       "      <td>0.001225</td>\n",
       "      <td>0.000066</td>\n",
       "    </tr>\n",
       "  </tbody>\n",
       "</table>\n",
       "</div>"
      ],
      "text/plain": [
       "          0        1         2         3         4         5         6  \\\n",
       "0  0.057648  0.19765  0.296475  0.254122  0.136137  0.046675  0.010002   \n",
       "\n",
       "          7         8  \n",
       "0  0.001225  0.000066  "
      ]
     },
     "execution_count": 26,
     "metadata": {},
     "output_type": "execute_result"
    }
   ],
   "source": [
    "n = 8\n",
    "p = 0.3\n",
    "x = range(9)\n",
    "\n",
    "prob = binom.pmf(x, n, p)\n",
    "pd.DataFrame(data=prob.T, index=x).transpose()"
   ]
  },
  {
   "cell_type": "code",
   "execution_count": 30,
   "metadata": {},
   "outputs": [
    {
     "data": {
      "text/plain": [
       "<BarContainer object of 9 artists>"
      ]
     },
     "execution_count": 30,
     "metadata": {},
     "output_type": "execute_result"
    },
    {
     "data": {
      "image/png": "[encoded data removed]",
      "text/plain": [
       "<Figure size 432x288 with 1 Axes>"
      ]
     },
     "metadata": {
      "needs_background": "light"
     },
     "output_type": "display_data"
    }
   ],
   "source": [
    "plt.bar(x, prob, width=0.1)"
   ]
  },
  {
   "cell_type": "markdown",
   "metadata": {},
   "source": [
    "### 항암제 완치율\n",
    "- 어떤 암에 대한 기존 항암제의 완치율은 50%   \n",
    "- 어느 제약회사에서 새로운 항암제를 개발하여 항암제의 효과를 확인하기 위해 15명의 환자를 대상으로 임상시험  \n",
    "- 8 명이 완치될 확률은 ?"
   ]
  },
  {
   "cell_type": "code",
   "execution_count": 32,
   "metadata": {},
   "outputs": [
    {
     "data": {
      "text/plain": [
       "0.1963806152343757"
      ]
     },
     "execution_count": 32,
     "metadata": {},
     "output_type": "execute_result"
    }
   ],
   "source": [
    "binom.pmf(8, 15, 0.5)"
   ]
  },
  {
   "cell_type": "markdown",
   "metadata": {},
   "source": [
    "- 적어도 10 명이상 치유될 확률은 ?\n",
    "> P(X>=10) = P(X>9) = 1 - P(X <= 9)\n",
    "\n",
    "cdf(k, n, p, loc=0) : Cumulative distribution function."
   ]
  },
  {
   "cell_type": "code",
   "execution_count": 35,
   "metadata": {},
   "outputs": [
    {
     "data": {
      "text/plain": [
       "0.1508789062500001"
      ]
     },
     "execution_count": 35,
     "metadata": {},
     "output_type": "execute_result"
    }
   ],
   "source": [
    "1 - binom.cdf(9, 15, 0.5, loc=0)"
   ]
  },
  {
   "cell_type": "markdown",
   "metadata": {},
   "source": [
    "- 환자 중 12명의 환자가 치유되었다면\n",
    "> 12 이상 치유될 확률"
   ]
  },
  {
   "cell_type": "code",
   "execution_count": 37,
   "metadata": {},
   "outputs": [
    {
     "data": {
      "text/plain": [
       "0.017578125"
      ]
     },
     "execution_count": 37,
     "metadata": {},
     "output_type": "execute_result"
    }
   ],
   "source": [
    "1 - binom.cdf(11, 15, 0.5)"
   ]
  },
  {
   "cell_type": "markdown",
   "metadata": {},
   "source": [
    "### factorial 계산"
   ]
  },
  {
   "cell_type": "code",
   "execution_count": 38,
   "metadata": {},
   "outputs": [
    {
     "data": {
      "text/plain": [
       "1241018070217667823424840524103103992616605577501693185388951803611996075221691752992751978120487585576464959501670387052809889858690710767331242032218484364310473577889968548278290754541561964852153468318044293239598173696899657235903947616152278558180061176365108428800000000000000000000000000000000000000000"
      ]
     },
     "execution_count": 38,
     "metadata": {},
     "output_type": "execute_result"
    }
   ],
   "source": [
    "import math\n",
    "\n",
    "math.factorial(171)"
   ]
  },
  {
   "cell_type": "markdown",
   "metadata": {},
   "source": [
    "## 초기하분포\n",
    "\n",
    "#### scipy.stats.hypergeom\n",
    "\n",
    ">pmf(x, M, n, N, loc=0) : Probability mass function.\n",
    "\n",
    "x - 확률변수  \n",
    "M - M is the total number of objects  \n",
    "n - 뽑을 갯수  \n",
    "N - n 이 속하는 N drawn without replacement from the total population"
   ]
  },
  {
   "cell_type": "markdown",
   "metadata": {},
   "source": [
    "### 6 개가 정상품과 4 개의 불량품이 있는 상자에서 임의로 3개의 제품을 비복원 추출한 경우에 3 개 중 1개가 불량품일 확률 ?"
   ]
  },
  {
   "cell_type": "code",
   "execution_count": 82,
   "metadata": {},
   "outputs": [
    {
     "data": {
      "text/plain": [
       "0.49999999999999994"
      ]
     },
     "execution_count": 82,
     "metadata": {},
     "output_type": "execute_result"
    }
   ],
   "source": [
    "x = 1\n",
    "M = 10\n",
    "n = 3\n",
    "N = 4\n",
    "\n",
    "hypergeom.pmf(x,  M, n, N)"
   ]
  },
  {
   "cell_type": "markdown",
   "metadata": {},
   "source": [
    "### 참고: cdf F(X)"
   ]
  },
  {
   "cell_type": "code",
   "execution_count": 72,
   "metadata": {},
   "outputs": [
    {
     "data": {
      "text/plain": [
       "0.6666666666666667"
      ]
     },
     "execution_count": 72,
     "metadata": {},
     "output_type": "execute_result"
    }
   ],
   "source": [
    "hypergeom.cdf(x, M, n, N, loc=0)"
   ]
  },
  {
   "cell_type": "markdown",
   "metadata": {},
   "source": [
    "### 난수\n",
    "\n",
    "numpy.random.hypergeometric(ngood, nbad, nsample, size=None)"
   ]
  },
  {
   "cell_type": "code",
   "execution_count": 81,
   "metadata": {},
   "outputs": [
    {
     "data": {
      "text/plain": [
       "array([1, 1, 2, 2, 0, 1, 2, 2, 0, 1])"
      ]
     },
     "execution_count": 81,
     "metadata": {},
     "output_type": "execute_result"
    }
   ],
   "source": [
    "np.random.hypergeometric(6, 4, 2, size=10)"
   ]
  },
  {
   "cell_type": "markdown",
   "metadata": {},
   "source": [
    "### 품질관리 - Operating Characteristic (OC) curve\n",
    "\n",
    "- 50 개의 전구들이 들어있는 상자에서 10개의 전구를 무작위로 선택하여 검사  \n",
    "- 불량전구의 갯수가 1 개 이하이면 이 회사의 전구를 구매  \n",
    "- 만약 이 상자에 5개의 불량품이 있을 때, 구매할 확룰은 ?\n",
    "- P(X=0) + P(X=1)\n"
   ]
  },
  {
   "cell_type": "code",
   "execution_count": 86,
   "metadata": {},
   "outputs": [
    {
     "data": {
      "text/plain": [
       "0.7418999792331384"
      ]
     },
     "execution_count": 86,
     "metadata": {},
     "output_type": "execute_result"
    }
   ],
   "source": [
    "hypergeom.pmf(0, 50, 10, 5) + hypergeom.pmf(1, 50, 10, 5)"
   ]
  },
  {
   "cell_type": "markdown",
   "metadata": {},
   "source": [
    "- 불량품이 k 개일 때"
   ]
  },
  {
   "cell_type": "code",
   "execution_count": 98,
   "metadata": {},
   "outputs": [],
   "source": [
    "M = range(0, 50)\n",
    "\n",
    "prob = hypergeom.pmf(0, 50, 10, M) + hypergeom.pmf(1, 50, 10, M)"
   ]
  },
  {
   "cell_type": "code",
   "execution_count": 99,
   "metadata": {},
   "outputs": [
    {
     "data": {
      "text/plain": [
       "array([1.00000000e+00, 1.00000000e+00, 9.63265306e-01, 9.02040816e-01,\n",
       "       8.25835866e-01, 7.41899979e-01, 6.55632540e-01, 5.70933599e-01,\n",
       "       4.90502435e-01, 4.16089929e-01, 3.48710312e-01, 2.88817320e-01,\n",
       "       2.36449344e-01, 1.91347738e-01, 1.53052006e-01, 1.20975238e-01,\n",
       "       9.44628076e-02, 7.28369820e-02, 5.54298307e-02, 4.16065047e-02,\n",
       "       3.07807100e-02, 2.24239561e-02, 1.60699416e-02, 1.13152368e-02,\n",
       "       7.81724693e-03, 5.29027097e-03, 3.50032966e-03, 2.25930369e-03,\n",
       "       1.41880951e-03, 8.64139955e-04, 5.08509983e-04, 2.87774138e-04,\n",
       "       1.55719887e-04, 7.99898510e-05, 3.86445921e-05, 1.73455194e-05,\n",
       "       7.11361188e-06, 2.60322000e-06, 8.20265949e-07, 2.09885282e-07,\n",
       "       3.90371049e-08, 3.99132494e-09, 0.00000000e+00, 0.00000000e+00,\n",
       "       0.00000000e+00, 0.00000000e+00, 0.00000000e+00, 0.00000000e+00,\n",
       "       0.00000000e+00, 0.00000000e+00])"
      ]
     },
     "execution_count": 99,
     "metadata": {},
     "output_type": "execute_result"
    }
   ],
   "source": [
    "prob"
   ]
  },
  {
   "cell_type": "code",
   "execution_count": 111,
   "metadata": {},
   "outputs": [
    {
     "data": {
      "image/png": "[encoded data removed]",
      "text/plain": [
       "<Figure size 432x288 with 1 Axes>"
      ]
     },
     "metadata": {
      "needs_background": "light"
     },
     "output_type": "display_data"
    }
   ],
   "source": [
    "plt.plot(M, prob, '-o')\n",
    "plt.xlabel('불량품의 수')\n",
    "plt.ylabel('prob')\n",
    "plt.title('OC Curve');"
   ]
  },
  {
   "cell_type": "code",
   "execution_count": null,
   "metadata": {},
   "outputs": [],
   "source": []
  }
 ],
 "metadata": {
  "kernelspec": {
   "display_name": "Python 3",
   "language": "python",
   "name": "python3"
  },
  "language_info": {
   "codemirror_mode": {
    "name": "ipython",
    "version": 3
   },
   "file_extension": ".py",
   "mimetype": "text/x-python",
   "name": "python",
   "nbconvert_exporter": "python",
   "pygments_lexer": "ipython3",
   "version": "3.7.2"
  }
 },
 "nbformat": 4,
 "nbformat_minor": 2
}
