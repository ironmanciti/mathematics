{
 "cells": [
  {
   "cell_type": "markdown",
   "metadata": {},
   "source": [
    "## Bernoulli Distribution\n",
    "\n",
    "A distribution over a single binary random variable.\n",
    "\n",
    "$P(x=1) = \\Phi$  \n",
    "$P(x=0) = 1 - \\Phi$\n",
    "\n",
    "## Gaussian Distribution\n",
    "\n",
    "Also called as Normal Distribution - most common distribution over real numbers.\n",
    "\n",
    "$$N(x; \\mu, \\sigma^2) = \\sqrt{\\frac{1}{2\\pi\\sigma^2}}\\mathrm {exp}\\left(-\\frac{1}{2\\sigma^2}(x-\\mu)^2 \\right)$$\n",
    "\n",
    "68 - 95 - 99.7 % rule"
   ]
  },
  {
   "cell_type": "code",
   "execution_count": null,
   "metadata": {},
   "outputs": [],
   "source": []
  }
 ],
 "metadata": {
  "kernelspec": {
   "display_name": "Python 3",
   "language": "python",
   "name": "python3"
  },
  "language_info": {
   "codemirror_mode": {
    "name": "ipython",
    "version": 3
   },
   "file_extension": ".py",
   "mimetype": "text/x-python",
   "name": "python",
   "nbconvert_exporter": "python",
   "pygments_lexer": "ipython3",
   "version": "3.7.1"
  }
 },
 "nbformat": 4,
 "nbformat_minor": 2
}
