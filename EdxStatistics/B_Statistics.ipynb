{
 "cells": [
  {
   "cell_type": "markdown",
   "metadata": {},
   "source": [
    "# What is Statistics\n",
    "\n",
    "1000 번의 동전 던지기를 해서 570 번의 앞면이 나왔다면, 이 동전은 fair coin 인가 아닌가 ?\n",
    "\n",
    "가설 - 이 동전은 fair coin 이다.\n",
    "\n",
    "만약, fair coin 이면서 570 번의 앞면이 나올 확률이 극히 적다면 가설을 reject 한다.\n",
    "\n",
    "앞면을 +1, 뒷면을 -1 로 하면 570 - 430 = 140 이다.\n",
    "\n",
    "$|S_k| \\geq 4 \\times \\sqrt{k}$ 일 확률은 $2\\times10^{-8}$ 이므로,"
   ]
  },
  {
   "cell_type": "code",
   "execution_count": 20,
   "metadata": {},
   "outputs": [
    {
     "data": {
      "text/plain": [
       "126.49110640673517"
      ]
     },
     "execution_count": 20,
     "metadata": {},
     "output_type": "execute_result"
    }
   ],
   "source": [
    "import numpy as np\n",
    "\n",
    "s_k = 4 * np.sqrt(1000)\n",
    "s_k"
   ]
  },
  {
   "cell_type": "markdown",
   "metadata": {},
   "source": [
    "다라서 fair coin 이라는 가설은 reject 되었고, coin 이 biase 되었다고 높은 confidence 말할 수 있다. \n",
    "\n",
    "507 head 의 경우는 어떠한가 ?\n",
    "\n",
    "507 - 493 = 14 이므로, 이 경우는 126.49 보다 훨씬 작은 값이므로 fair coin 이 아니라고 말할 수 없고, fair coin 일 가능성 높음. 따라서 fair coin 이 아니라고 결론 지을 수 없다."
   ]
  },
  {
   "cell_type": "markdown",
   "metadata": {},
   "source": [
    "## Real World Problem\n",
    "\n",
    "### Case 1 : 여론조사\n",
    "수일 내로 투표가 있고, 우리는 사람들이 R 과 D 당 중 어느 당을 찍을지 알고 싶다. (오직 2 당만 존재한다고 가정)  \n",
    "전체 유권자를 대상으로 물어볼 수는 없으므로 작은 수의 선택된 사람들을 표본으로 여론 조사를 하여 추정 (extrapolate)한다.\n",
    "\n",
    "- n 명의 사람들에게 무작위로 전화를 하여 D 당 투표를 count  \n",
    "- 확신을 가지고 R vote 가 많을지 D vote 가 많을지 말할 수 있는가 ?\n",
    "- 이 것은 동전던지기 문제를 확신을 가지고 앞면 혹은 뒷면으로 편향되었다고 말할 수 있는가와 수학적으로 완전히 같다.\n",
    "\n",
    "### A/B Test\n",
    "- 두개의 design 을 방문자에게 무작위로 보여주어 방문자가 얼마나 오래 site 에 머무는지 혹은 광고 클릭을 하는지 등을 통해 사용자가 어느 design 을 선호하는지 측정\n",
    "- 이 것 역시 동전의 앞면이 뒷면 보다 더 확률이 높은지를 확신을 가지고 이야기 하는 문제와 유사하다.\n",
    "\n",
    "그 이외에도 지구온난화 측정, 의료 과정의 효율성 판단 등도 유사"
   ]
  },
  {
   "cell_type": "markdown",
   "metadata": {},
   "source": [
    "## Three Card Puzzle\n",
    "\n",
    "모자 속에 3 장의 카드가 있다.   \n",
    "- RB : 한면은 red, 한면은 blue\n",
    "- RR : 양면 모두 red\n",
    "- BB : 양면 모두 blue\n",
    "\n",
    "한장의 카드를 무작위로 꺼내어 아무쪽이나 책상위에 놓는다.  \n",
    "- U 를 윗면을 향한 카드 색이라 하자 (R or B)\n",
    "- 다른 면의 색이 다르면 내가 상대에게 \\$1 을 주고,    \n",
    "- 다른 면의 색이 같으면 상대가 내게 \\$1 을 준다.\n",
    "\n",
    "### 첫번째 주장\n",
    "이 내기가 공정한 이유,\n",
    "- U 가 R 이라 가정할 때,\n",
    "- 카드는 RR 혹은 RB 일 것이다. 따라서, 다른 면은 R 혹은 B 이므로 승산은 반반이다.\n",
    "- U 가 B 인 경우도 마찬가지이다.\n"
   ]
  },
  {
   "cell_type": "markdown",
   "metadata": {},
   "source": [
    "### Monte Carlo Simulation 을 이용하여 위 내용을 검증한다.\n",
    "\n",
    "- 3 장의 card 를 random 하게 골라서 random side 를 up 이 되도록 한다.\n",
    "- card 를 print 하고 양면이 모두 같은지 다른지를 표시한다."
   ]
  },
  {
   "cell_type": "code",
   "execution_count": 49,
   "metadata": {},
   "outputs": [
    {
     "name": "stdout",
     "output_type": "stream",
     "text": [
      "same: 67%, different: 33%\n"
     ]
    }
   ],
   "source": [
    "import numpy as np\n",
    "\n",
    "cards = [('r', 'r'), ('r', 'b'), ('b', 'b')]\n",
    "same = 0\n",
    "different = 0\n",
    "n = 10000\n",
    "\n",
    "for _ in range(n):\n",
    "\n",
    "    trial = cards[np.random.randint(3)]\n",
    "    up = np.random.randint(2)\n",
    "\n",
    "    if up == 0:\n",
    "        down = 1\n",
    "    else:\n",
    "        down = 0\n",
    "\n",
    "    if trial[up] == trial[down]:\n",
    "        same += 1\n",
    "    else:\n",
    "        different += 1\n",
    "\n",
    "    #print(trial, trial[up], trial[down])\n",
    "\n",
    "print(\"same: {:.0f}%, different: {:.0f}%\".format(same/n*100, different/n*100))"
   ]
  },
  {
   "cell_type": "markdown",
   "metadata": {},
   "source": [
    "### 새로운 주장\n",
    "- 양면이 같은 경우가 다른 경우 보다 2 배이다.\n",
    "- 따라서 상대는 2 배 확률로 돈을 잃는다.\n",
    "- 평균적으로 매번 33 센트를 잃는다.  \n",
    "    $\\$1 \\times (2/3) - \\$1 \\times (1/3)$\n",
    "\n",
    "### 결론\n",
    "- 카드를 무작위로 뽑으면 2/3 회는 양면의 색이 같은 카드를 뽑고 1/3 만 색이 다른 카드를 뽑게 된다.\n",
    "- 따라서 처음 가정은 그럴듯해 보이나 틀렸다.\n",
    "- 우리의 결론이 맞다는 것을 확인하려면 outcome 과 event 라는 두개의 개념을 정의해야 한다. \n",
    "- simulation 없이 첫번째 주장과 두번째 주장 중 어느 것이 맞는지 확인하는 방법 필요"
   ]
  },
  {
   "cell_type": "code",
   "execution_count": null,
   "metadata": {},
   "outputs": [],
   "source": []
  }
 ],
 "metadata": {
  "kernelspec": {
   "display_name": "Python 3",
   "language": "python",
   "name": "python3"
  },
  "language_info": {
   "codemirror_mode": {
    "name": "ipython",
    "version": 3
   },
   "file_extension": ".py",
   "mimetype": "text/x-python",
   "name": "python",
   "nbconvert_exporter": "python",
   "pygments_lexer": "ipython3",
   "version": "3.6.7"
  }
 },
 "nbformat": 4,
 "nbformat_minor": 2
}
