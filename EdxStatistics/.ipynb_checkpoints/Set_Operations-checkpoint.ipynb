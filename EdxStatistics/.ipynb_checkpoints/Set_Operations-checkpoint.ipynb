{
 "cells": [
  {
   "cell_type": "markdown",
   "metadata": {},
   "source": [
    "# 집합"
   ]
  },
  {
   "cell_type": "markdown",
   "metadata": {},
   "source": [
    "tertools.product(*iterables[, repeat])\n",
    "    - Cartesian product of input iterables  \n",
    "    - Roughly equivalent to nested for-loops in a generator expression.   \n",
    "        For example, product(A, B) returns the same as ((x,y) for x in A for y in B)."
   ]
  },
  {
   "cell_type": "code",
   "execution_count": 73,
   "metadata": {
    "nbgrader": {
     "grade": false,
     "locked": true,
     "solution": false
    }
   },
   "outputs": [],
   "source": [
    "from itertools import product            # Cartesian Product (곱집합, 데카르트곱)"
   ]
  },
  {
   "cell_type": "code",
   "execution_count": 74,
   "metadata": {},
   "outputs": [
    {
     "data": {
      "text/plain": [
       "{1, 2, 3, 5}"
      ]
     },
     "execution_count": 74,
     "metadata": {},
     "output_type": "execute_result"
    }
   ],
   "source": [
    "s = set([1,2,3])\n",
    "s.add(5)\n",
    "s"
   ]
  },
  {
   "cell_type": "code",
   "execution_count": 75,
   "metadata": {},
   "outputs": [
    {
     "ename": "AttributeError",
     "evalue": "'frozenset' object has no attribute 'add'",
     "output_type": "error",
     "traceback": [
      "\u001b[1;31m---------------------------------------------------------------------------\u001b[0m",
      "\u001b[1;31mAttributeError\u001b[0m                            Traceback (most recent call last)",
      "\u001b[1;32m<ipython-input-75-0f97167cf17d>\u001b[0m in \u001b[0;36m<module>\u001b[1;34m\u001b[0m\n\u001b[0;32m      1\u001b[0m \u001b[0mt\u001b[0m \u001b[1;33m=\u001b[0m \u001b[0mfrozenset\u001b[0m\u001b[1;33m(\u001b[0m\u001b[1;33m[\u001b[0m\u001b[1;36m1\u001b[0m\u001b[1;33m,\u001b[0m\u001b[1;36m2\u001b[0m\u001b[1;33m,\u001b[0m\u001b[1;36m3\u001b[0m\u001b[1;33m]\u001b[0m\u001b[1;33m)\u001b[0m\u001b[1;33m\u001b[0m\u001b[1;33m\u001b[0m\u001b[0m\n\u001b[1;32m----> 2\u001b[1;33m \u001b[0mt\u001b[0m\u001b[1;33m.\u001b[0m\u001b[0madd\u001b[0m\u001b[1;33m(\u001b[0m\u001b[1;36m5\u001b[0m\u001b[1;33m)\u001b[0m\u001b[1;33m\u001b[0m\u001b[1;33m\u001b[0m\u001b[0m\n\u001b[0m",
      "\u001b[1;31mAttributeError\u001b[0m: 'frozenset' object has no attribute 'add'"
     ]
    }
   ],
   "source": [
    "t = frozenset([1,2,3])\n",
    "t.add(5)"
   ]
  },
  {
   "cell_type": "code",
   "execution_count": 76,
   "metadata": {},
   "outputs": [],
   "source": [
    "A1 = set([1, 2, 3, 4])\n",
    "A2 = set([2, 4, 6])\n",
    "A3 = set([1, 2, 3])\n",
    "A4 = set([2, 3, 4, 5, 6])"
   ]
  },
  {
   "cell_type": "code",
   "execution_count": 77,
   "metadata": {},
   "outputs": [
    {
     "data": {
      "text/plain": [
       "{1, 2, 3, 4, 6}"
      ]
     },
     "execution_count": 77,
     "metadata": {},
     "output_type": "execute_result"
    }
   ],
   "source": [
    "A1.union(A2)"
   ]
  },
  {
   "cell_type": "code",
   "execution_count": 78,
   "metadata": {},
   "outputs": [
    {
     "data": {
      "text/plain": [
       "{1, 2, 3, 4, 6}"
      ]
     },
     "execution_count": 78,
     "metadata": {},
     "output_type": "execute_result"
    }
   ],
   "source": [
    "A1 | A2"
   ]
  },
  {
   "cell_type": "code",
   "execution_count": 79,
   "metadata": {},
   "outputs": [
    {
     "data": {
      "text/plain": [
       "{2, 3}"
      ]
     },
     "execution_count": 79,
     "metadata": {},
     "output_type": "execute_result"
    }
   ],
   "source": [
    "A3.intersection(A4)"
   ]
  },
  {
   "cell_type": "code",
   "execution_count": 80,
   "metadata": {},
   "outputs": [
    {
     "data": {
      "text/plain": [
       "{2, 3}"
      ]
     },
     "execution_count": 80,
     "metadata": {},
     "output_type": "execute_result"
    }
   ],
   "source": [
    "A4 & A3"
   ]
  },
  {
   "cell_type": "code",
   "execution_count": 81,
   "metadata": {},
   "outputs": [
    {
     "data": {
      "text/plain": [
       "True"
      ]
     },
     "execution_count": 81,
     "metadata": {},
     "output_type": "execute_result"
    }
   ],
   "source": [
    "A3.issubset(A1)"
   ]
  },
  {
   "cell_type": "code",
   "execution_count": 82,
   "metadata": {},
   "outputs": [
    {
     "data": {
      "text/plain": [
       "True"
      ]
     },
     "execution_count": 82,
     "metadata": {},
     "output_type": "execute_result"
    }
   ],
   "source": [
    "A3 <= A1"
   ]
  },
  {
   "cell_type": "code",
   "execution_count": 83,
   "metadata": {},
   "outputs": [
    {
     "data": {
      "text/plain": [
       "False"
      ]
     },
     "execution_count": 83,
     "metadata": {},
     "output_type": "execute_result"
    }
   ],
   "source": [
    "A3.issubset(A2)"
   ]
  },
  {
   "cell_type": "code",
   "execution_count": 84,
   "metadata": {},
   "outputs": [
    {
     "data": {
      "text/plain": [
       "False"
      ]
     },
     "execution_count": 84,
     "metadata": {},
     "output_type": "execute_result"
    }
   ],
   "source": [
    "A3 <= A2"
   ]
  },
  {
   "cell_type": "code",
   "execution_count": 85,
   "metadata": {},
   "outputs": [
    {
     "data": {
      "text/plain": [
       "True"
      ]
     },
     "execution_count": 85,
     "metadata": {},
     "output_type": "execute_result"
    }
   ],
   "source": [
    "A3 <= A3  # 모든 집합은 자기 자신의 부분집합이다."
   ]
  },
  {
   "cell_type": "code",
   "execution_count": 86,
   "metadata": {},
   "outputs": [
    {
     "data": {
      "text/plain": [
       "False"
      ]
     },
     "execution_count": 86,
     "metadata": {},
     "output_type": "execute_result"
    }
   ],
   "source": [
    "A3 < A3  # 모든 집합은 자기 자신의 진부분집합이 아니다."
   ]
  },
  {
   "cell_type": "code",
   "execution_count": 87,
   "metadata": {},
   "outputs": [
    {
     "data": {
      "text/plain": [
       "{1, 3}"
      ]
     },
     "execution_count": 87,
     "metadata": {},
     "output_type": "execute_result"
    }
   ],
   "source": [
    "A1.difference(A2)      # 차집합"
   ]
  },
  {
   "cell_type": "code",
   "execution_count": 88,
   "metadata": {},
   "outputs": [
    {
     "data": {
      "text/plain": [
       "{1, 3}"
      ]
     },
     "execution_count": 88,
     "metadata": {},
     "output_type": "execute_result"
    }
   ],
   "source": [
    "A1 - A2"
   ]
  },
  {
   "cell_type": "code",
   "execution_count": 89,
   "metadata": {},
   "outputs": [
    {
     "data": {
      "text/plain": [
       "set()"
      ]
     },
     "execution_count": 89,
     "metadata": {},
     "output_type": "execute_result"
    }
   ],
   "source": [
    "empty_set = set([])          # 공집합\n",
    "empty_set"
   ]
  },
  {
   "cell_type": "code",
   "execution_count": 70,
   "metadata": {},
   "outputs": [
    {
     "data": {
      "text/plain": [
       "True"
      ]
     },
     "execution_count": 70,
     "metadata": {},
     "output_type": "execute_result"
    }
   ],
   "source": [
    "empty_set < A1"
   ]
  },
  {
   "cell_type": "code",
   "execution_count": 71,
   "metadata": {},
   "outputs": [
    {
     "data": {
      "text/plain": [
       "set()"
      ]
     },
     "execution_count": 71,
     "metadata": {},
     "output_type": "execute_result"
    }
   ],
   "source": [
    "empty_set.intersection(A1)"
   ]
  },
  {
   "cell_type": "code",
   "execution_count": 72,
   "metadata": {},
   "outputs": [
    {
     "data": {
      "text/plain": [
       "{1, 2, 3, 4}"
      ]
     },
     "execution_count": 72,
     "metadata": {},
     "output_type": "execute_result"
    }
   ],
   "source": [
    "empty_set.union(A1)"
   ]
  },
  {
   "cell_type": "markdown",
   "metadata": {
    "nbgrader": {
     "grade": false,
     "locked": true,
     "solution": false
    }
   },
   "source": [
    "# Problem 1"
   ]
  },
  {
   "cell_type": "markdown",
   "metadata": {
    "nbgrader": {
     "grade": false,
     "locked": true,
     "solution": false
    }
   },
   "source": [
    "De Morgan's first law states the following for any two sets $A$ and $B$\n",
    "$$(A\\cup B)^c = A^c\\cap B^c$$\n",
    "\n",
    "In the following two exercises we calculate $(A\\cup B)^c$ in two different ways. Both functions must take $A$, $B$ and the universal set $U$ as their inputs."
   ]
  },
  {
   "cell_type": "markdown",
   "metadata": {
    "nbgrader": {
     "grade": false,
     "locked": true,
     "solution": false
    }
   },
   "source": [
    "## Exercise 1.1"
   ]
  },
  {
   "cell_type": "markdown",
   "metadata": {
    "nbgrader": {
     "grade": false,
     "locked": true,
     "solution": false
    }
   },
   "source": [
    "\n",
    "Write the function **complement_of_union** that first determines $A\\cup B$ and then evaluates the complement of this set. Output the tuple: $\\begin{pmatrix}A\\cup B,\\, (A\\cup B)^c\\end{pmatrix}$.\n",
    "\n",
    "\n",
    "\n",
    "<font  style=\"color:blue\"> **Code**</font>\n",
    "```python\n",
    "A = {1, 2, 3}\n",
    "B = {3, -6, 2, 0}\n",
    "U = {-10, -9, -8, -7, -6, 0, 1, 2, 3, 4}\n",
    "complement_of_union(A, B, U)\n",
    "```\n",
    "\n",
    "<font  style=\"color:magenta\"> **Output**</font>\n",
    "```\n",
    "({-6, 0, 1, 2, 3}, {-10, -9, -8, -7, 4})\n",
    "```\n"
   ]
  },
  {
   "cell_type": "code",
   "execution_count": 16,
   "metadata": {
    "scrolled": true
   },
   "outputs": [
    {
     "data": {
      "text/plain": [
       "({-6, 0, 1, 2, 3}, {-10, -9, -8, -7, 4})"
      ]
     },
     "execution_count": 16,
     "metadata": {},
     "output_type": "execute_result"
    }
   ],
   "source": [
    "def complement_of_union(A, B, U):\n",
    "    # inputs: A, B and U are of type 'set'\n",
    "    # output: a tuple of the type (set, set)\n",
    "    return (A.union(B), U.difference(A.union(B)))\n",
    "\n",
    "A = set([1, 2, 3])\n",
    "B = {3, -6, 2, 0}\n",
    "U = {-10, -9, -8, -7, -6, 0, 1, 2, 3, 4}\n",
    "\n",
    "complement_of_union(A, B, U)"
   ]
  },
  {
   "cell_type": "code",
   "execution_count": 17,
   "metadata": {
    "nbgrader": {
     "grade": true,
     "grade_id": "ex1",
     "locked": true,
     "points": "5",
     "solution": false
    }
   },
   "outputs": [],
   "source": [
    "A = {1, 2, 3, 4, 5}\n",
    "B = {0, 2, -6, 5, 8, 9}\n",
    "U = A|B|{-3, 7, 10, -4}\n",
    "assert( complement_of_union(A, B, U) == ({-6, 0, 1, 2, 3, 4, 5, 8, 9}, {-4, -3, 7, 10})  )"
   ]
  },
  {
   "cell_type": "markdown",
   "metadata": {
    "nbgrader": {
     "grade": false,
     "locked": true,
     "solution": false
    }
   },
   "source": [
    "## Exercsise 1.2\n",
    "\n",
    "Write the function **intersection_of_complements** that first determines $A^c$ and $B^c$ and then evaluates the intersection of their complements. Output the tuple: $\\begin{pmatrix}A^c, \\,  A^c\\cap B^c\\end{pmatrix}$\n",
    "\n",
    "<font  style=\"color:blue\"> **Code**</font>\n",
    "```python\n",
    "A = {1, 2, 3}\n",
    "B = {3, -6, 2, 0}\n",
    "U = {-10, -9, -8, -7, -6, 0, 1, 2, 3, 4}\n",
    "intersection_of_complements(A, B, U)\n",
    "```\n",
    "\n",
    "<font  style=\"color:magenta\"> **Output**</font>\n",
    "```\n",
    "({-10, -9, -8, -7, -6, 0, 4}, {-10, -9, -8, -7, 4})\n",
    "```\n"
   ]
  },
  {
   "cell_type": "code",
   "execution_count": 20,
   "metadata": {},
   "outputs": [],
   "source": [
    "def intersection_of_complements(A, B, U):\n",
    "    # inputs: A, B and U are of type 'set'\n",
    "    # output: a tuple of the form (set, set)\n",
    "    \n",
    "    return (U.difference(A), U.difference(A).intersection(U.difference(B)))"
   ]
  },
  {
   "cell_type": "code",
   "execution_count": 21,
   "metadata": {
    "nbgrader": {
     "grade": true,
     "grade_id": "ex2",
     "locked": true,
     "points": "5",
     "solution": false
    }
   },
   "outputs": [],
   "source": [
    "A = {1, 2, 3, 4, 5}\n",
    "B = {0, 2, -6, 5, 8, 9}\n",
    "U = A|B|{-3, 7, 10, -4}\n",
    "assert(  intersection_of_complements(A, B, U) == ({-6, -4, -3, 0, 7, 8, 9, 10}, {-4, -3, 7, 10})  )"
   ]
  },
  {
   "cell_type": "markdown",
   "metadata": {
    "collapsed": true,
    "nbgrader": {
     "grade": false,
     "locked": true,
     "solution": false
    }
   },
   "source": [
    "# Problem 2"
   ]
  },
  {
   "cell_type": "markdown",
   "metadata": {
    "nbgrader": {
     "grade": false,
     "locked": true,
     "solution": false
    }
   },
   "source": [
    "This problem illustrates a property of cartesian products of unions of two or more sets. For four sets $A$, $B$, $S$ and $T$, the following holds:\n",
    "\n",
    "$$(A\\cup B)\\times(S\\cup T) = (A\\times S)\\cup(A\\times T)\\cup(B\\times S)\\cup(B\\times T)$$\n",
    "\n",
    "Write the following functions to determine $(A\\cup B)\\times(S\\cup T)$ in two different ways.\n"
   ]
  },
  {
   "cell_type": "markdown",
   "metadata": {
    "nbgrader": {
     "grade": false,
     "locked": true,
     "solution": false
    }
   },
   "source": [
    "## Exercies 2.1\n",
    "\n",
    "Write function **product_of_unions** that first determines $(A\\cup B)$ and $(S\\cup T)$ and then evaluates the cartesian products of these unions. Output the tuple $\\begin{pmatrix}(A\\cup B),\\,  (A\\cup B)\\times(S\\cup T)\\end{pmatrix}$.\n",
    "\n",
    "<font  style=\"color:blue\"> **Code**</font>\n",
    "```python\n",
    "A = {1, 2}\n",
    "B = {1, 3}\n",
    "S = {-1, 0}\n",
    "T = {0, 10}\n",
    "product_of_unions(A, B, S, T)\n",
    "```\n",
    "\n",
    "\n",
    "<font  style=\"color:magenta\"> **Output**</font>\n",
    "```\n",
    "({1, 2, 3},\n",
    " {(1, -1),\n",
    "  (1, 0),\n",
    "  (1, 10),\n",
    "  (2, -1),\n",
    "  (2, 0),\n",
    "  (2, 10),\n",
    "  (3, -1),\n",
    "  (3, 0),\n",
    "  (3, 10)})\n",
    "```\n"
   ]
  },
  {
   "cell_type": "code",
   "execution_count": 28,
   "metadata": {},
   "outputs": [],
   "source": [
    "def product_of_unions(A, B, S, T):\n",
    "    # inputs: A, B, S and T are sets\n",
    "    # output: a tuple of the type (set, set)\n",
    "    return (A.union(B), {s for s in product(A.union(B), S.union(T))})"
   ]
  },
  {
   "cell_type": "code",
   "execution_count": 29,
   "metadata": {
    "nbgrader": {
     "grade": true,
     "grade_id": "ex3",
     "locked": true,
     "points": "5",
     "solution": false
    }
   },
   "outputs": [],
   "source": [
    "A = {5}\n",
    "B = {5, 6}\n",
    "S = {-1, 0, 1}\n",
    "T = {1, 2}\n",
    "assert( product_of_unions(A, B, S, T) == \\\n",
    "       ({5, 6}, {(5, -1), (5, 0), (5, 1), (5, 2), (6, -1), (6, 0), (6, 1), (6, 2)})   )"
   ]
  },
  {
   "cell_type": "markdown",
   "metadata": {
    "nbgrader": {
     "grade": false,
     "locked": true,
     "solution": false
    }
   },
   "source": [
    "## Exercise 2.2\n",
    "\n",
    "Write a function **union_of_products** that first determines $(A\\times S)$ and the other three cartesian products that appear on the right hand side of the identity above, then evaluates the union of these cartesian products. Output the tuple $\\begin{pmatrix}(A\\times S),\\,  (A\\times S)\\cup(A\\times T)\\cup(B\\times S)\\cup(B\\times T)\\end{pmatrix}$.\n",
    "\n",
    "<font  style=\"color:blue\"> **Code**</font>\n",
    "```python\n",
    "A = {1, 2}\n",
    "B = {1, 3}\n",
    "S = {-1, 0}\n",
    "T = {0, 10}\n",
    "union_of_products(A, B, S, T)\n",
    "```\n",
    "\n",
    "\n",
    "<font  style=\"color:magenta\"> **Output**</font>\n",
    "```\n",
    "({(1, -1), (1, 0), (2, -1), (2, 0)},\n",
    " {(1, -1),\n",
    "  (1, 0),\n",
    "  (1, 10),\n",
    "  (2, -1),\n",
    "  (2, 0),\n",
    "  (2, 10),\n",
    "  (3, -1),\n",
    "  (3, 0),\n",
    "  (3, 10)})\n",
    "```"
   ]
  },
  {
   "cell_type": "code",
   "execution_count": 46,
   "metadata": {
    "scrolled": true
   },
   "outputs": [
    {
     "name": "stdout",
     "output_type": "stream",
     "text": [
      "({(5, -1), (5, 1), (5, 0)}, {(5, -1), (6, 1), (6, 0), (6, -1), (6, 2), (5, 0), (5, 1), (5, 2)})\n"
     ]
    }
   ],
   "source": [
    "def union_of_products(A, B, S, T):\n",
    "    # inputs: A, B, S and T are sets\n",
    "    # output: a tuple of the type (set, set)\n",
    "    return ({s for s in product(A, S)}, {s for s in product(A, S)}.union({s for s in product(A, T)}).\\\n",
    "                        union({s for s in product(B, S)}).union({s for s in product(B, T)}))\n",
    "A = {5}\n",
    "B = {5, 6}\n",
    "S = {-1, 0, 1}\n",
    "T = {1, 2}\n",
    "\n",
    "print(union_of_products(A, B, S, T))"
   ]
  },
  {
   "cell_type": "code",
   "execution_count": 48,
   "metadata": {
    "nbgrader": {
     "grade": true,
     "grade_id": "ex4",
     "locked": true,
     "points": "5",
     "solution": false
    }
   },
   "outputs": [],
   "source": [
    "A = {5}\n",
    "B = {5, 6}\n",
    "S = {-1, 0, 1}\n",
    "T = {1, 2}\n",
    "assert( union_of_products(A, B, S, T) == \\\n",
    "        ({(5, -1), (5, 0), (5, 1)}, \\\n",
    "         {(5, -1), (5, 0), (5, 1), (5, 2), (6, -1), (6, 0), (6, 1), (6, 2)})  \\\n",
    "      )"
   ]
  }
 ],
 "metadata": {
  "kernelspec": {
   "display_name": "Python 3",
   "language": "python",
   "name": "python3"
  },
  "language_info": {
   "codemirror_mode": {
    "name": "ipython",
    "version": 3
   },
   "file_extension": ".py",
   "mimetype": "text/x-python",
   "name": "python",
   "nbconvert_exporter": "python",
   "pygments_lexer": "ipython3",
   "version": "3.6.8"
  },
  "latex_envs": {
   "LaTeX_envs_menu_present": true,
   "autoclose": false,
   "autocomplete": true,
   "bibliofile": "biblio.bib",
   "cite_by": "apalike",
   "current_citInitial": 1,
   "eqLabelWithNumbers": true,
   "eqNumInitial": 1,
   "hotkeys": {
    "equation": "Ctrl-E",
    "itemize": "Ctrl-I"
   },
   "labels_anchors": false,
   "latex_user_defs": false,
   "report_style_numbering": false,
   "user_envs_cfg": false
  },
  "toc": {
   "nav_menu": {
    "height": "48px",
    "width": "252px"
   },
   "number_sections": true,
   "sideBar": true,
   "skip_h1_title": false,
   "toc_cell": false,
   "toc_position": [],
   "toc_section_display": "block",
   "toc_window_display": false
  },
  "varInspector": {
   "cols": {
    "lenName": 16,
    "lenType": 16,
    "lenVar": 40
   },
   "kernels_config": {
    "python": {
     "delete_cmd_postfix": "",
     "delete_cmd_prefix": "del ",
     "library": "var_list.py",
     "varRefreshCmd": "print(var_dic_list())"
    },
    "r": {
     "delete_cmd_postfix": ") ",
     "delete_cmd_prefix": "rm(",
     "library": "var_list.r",
     "varRefreshCmd": "cat(var_dic_list()) "
    }
   },
   "types_to_exclude": [
    "module",
    "function",
    "builtin_function_or_method",
    "instance",
    "_Feature"
   ],
   "window_display": false
  }
 },
 "nbformat": 4,
 "nbformat_minor": 2
}
