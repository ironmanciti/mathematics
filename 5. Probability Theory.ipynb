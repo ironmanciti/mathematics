{
 "cells": [
  {
   "cell_type": "markdown",
   "metadata": {},
   "source": [
    "# Probability Theory\n",
    "\n",
    "### Random Variable (확률변수)\n",
    "- A variable that can take on different values ramdomly.\n",
    "- $x_1$, $x_2$ $\\cdot \\cdot$ are possible values the variable x could be.\n",
    "- A probability distribution specifies how likely each value is to occur.\n",
    "\n",
    "### Probability Mass Functions (확률질량함수)\n",
    "- Probability distributions for discrete random variables are referred to as Probability Mass Functions (PMF).\n",
    "- 이산 확률 변수에서 특정 값에 대한 확률을 나타내는 함수이다. 이 함수는 연속 확률 변수에서의 확률 밀도 함수와 대응된다.\n",
    "- PMF 의 3 가지 기준  \n",
    "    - The domain P must be the set of all possible states of x.  \n",
    "    - $0 \\leq P(x) \\leq 1 \\text{  }$  (모든 possible states 의 발생 확률)\n",
    "    - $\\sum_{x \\in X} P(x) = 1$\n",
    "    \n",
    "### 확률의 종류\n",
    "1. Joint Probability Distribution (결합확률분포)\n",
    "    - A probability mass function that acts on multiple variables.\n",
    "    - $P(x = x, y = y)$ denotes the probability that x = x and y = y simultaneously. \n",
    "2. Uniform Distribution (균등분포)\n",
    "    - Each state of distribution is equally likely.\n",
    "    - $P(x = x_i) = \\frac{1}{k}$\n",
    "    - $\\sum_i P(x = x_i) = \\sum_i \\frac{1}{k_i} = \\frac{k}{k} = 1$\n",
    "    \n",
    "### Probability Density Function (확률밀도함수)\n",
    "- Probability distributions for continous variables are called Probability Density Functions (PDF) \n",
    "- To be a PDF, the function p must satisfy, \n",
    "    - The domain p must be the set of all possible states of x\n",
    "    - $p(x) \\geq 0$\n",
    "    - $\\int p(x)dx = 1$\n",
    "    \n",
    "### Marginal Probability (주변확률분포)\n",
    "- The probability distribution over a subset of all the variables\n",
    "#### With discrete random variables :\n",
    "    - If we know P(x, y), we can find P(x) with the **sum rule**\n",
    "    - $P(X = x) = \\sum_y P(X = x, Y = y)$\n",
    "#### With continuous random variables :\n",
    "    - $p(x) = \\int p(x,y)dy$\n",
    "    \n",
    "### Conditional Probability (조건부 확률분포)\n",
    "- The probability of some event, given that some other event has happened.  \n",
    "- $P(Y = y | X = x) = \\displaystyle \\frac{P(Y = y, X = x)}{P(X=x)}$  \n",
    "\n",
    "### 결합확률(joint probability)은 사건  x 와  y 가 동시에 발생할 확률\n",
    "- x 도 진실이고 y 도 진실이므로 두 사건 x, y 가 동시에 발생할 확률은 두 사건의 교집합을 계산하는 것과 같다.  \n",
    "- 조건부 확률은 y 가 사실일 경우 x 의 확률을 계산하는 것이다.  \n",
    "$P(x\\cap y)$ 또는 P(x, y)"
   ]
  },
  {
   "cell_type": "markdown",
   "metadata": {},
   "source": [
    "# Expectation, Variance, Covariance (기대값, 분산, 공분산)\n",
    "\n",
    "#### 기댓값(expected value)은 통계에서는 평균과 같다고 생각하면 된다. 가능한 값마다 확률을 곱해서 모두 더한 것이다.   \n",
    "\n",
    "#### 분산(variance, 변량)은 그 확률변수가 기댓값으로부터 얼마나 떨어진 곳에 분포하는지를 가늠하는 숫자이다\n",
    "$$\\operatorname {var}(X)=\\operatorname {E}((X-\\mu )^{2})$$\n",
    "#### 표준 편차(standard deviation)는 분산을 제곱근한 것이다. 제곱해서 값이 부풀려진 분산을 제곱근해서 다시 원래 크기로 만들어준다.  \n",
    "#### Covariance measures how much two variables are linearly related to each other.   \n",
    "    만약 2개의 변수중 하나의 값이 상승하는 경향을 보일 때, 다른 값도 상승하는 경향의 상관관계에 있다면, 공분산의 값은 양수가 될 것이다. 반대로 2개의 변수중 하나의 값이 상승하는 경향을 보일 때, 다른 값이 하강하는 경향을 보인다면 공분산의 값은 음수가 된다.\n",
    "$${\\displaystyle \\operatorname {cov} (X,Y)=\\operatorname {E} {{\\big [}(X-\\operatorname \n",
    "{E} [X])(Y-\\operatorname {E} [Y]){\\big ]}}}$$\n",
    "\n",
    "#### Covariance Matrix \n",
    "    열벡터값을 가지는 확률변수X 와 Y 가 각각 μ 와 ν라는 기댓값을 가질 때 공분산m×n 행렬은 아래와 같다.\n",
    "$$\\operatorname {Cov}(X,Y)=\\operatorname {E}((X-\\mu )(Y-\\nu )^{\\top })$$\n",
    "\n",
    "    공분산을 정규화시키면 상관관계 행렬을 얻을 수 있다. 이로부터 Pearson Coefficient값을 얻을 수 있고 두개의 확률변수의 관계를 최적으로 설명가능한 선형함수를 표현가능하게 해준다.\n",
    "\n",
    "<img src=\"PIC25D.gif\" width=\"300\">"
   ]
  },
  {
   "cell_type": "code",
   "execution_count": 46,
   "metadata": {},
   "outputs": [
    {
     "data": {
      "image/png": "[encoded data removed]",
      "text/plain": [
       "<Figure size 432x288 with 1 Axes>"
      ]
     },
     "metadata": {},
     "output_type": "display_data"
    }
   ],
   "source": [
    "# Normal Distribution of IQ Test\n",
    "import matplotlib.pyplot as plt\n",
    "from scipy.stats import norm\n",
    "import numpy as np\n",
    "\n",
    "mean = 115\n",
    "std = 15\n",
    "iq = norm(mean, std)\n",
    "\n",
    "x = np.arange(mean - 4*std, mean + 4*std, 0.1)\n",
    "\n",
    "plt.plot(x, iq.pdf(x), 'r', linewidth=3)\n",
    "\n",
    "color = ['red', 'blue', 'green']\n",
    "\n",
    "for i in range(3):\n",
    "    low = mean + i * std\n",
    "    high = mean + (i+1) * std\n",
    "    px = x[np.logical_and(x >= low, x <= high)]\n",
    "    plt.fill_between(\n",
    "        px,\n",
    "        iq.pdf(px),\n",
    "        color=color[i-1],\n",
    "        alpha=0.5,\n",
    "        linewidth=0,\n",
    "    )\n",
    "    high = mean - i * std\n",
    "    low = mean - (i+1) * std\n",
    "    px = x[np.logical_and(x >= low, x <= high)]\n",
    "    plt.fill_between(\n",
    "        px,\n",
    "        iq.pdf(px),\n",
    "        color=color[i-1],\n",
    "        alpha=0.5,\n",
    "        linewidth=0,\n",
    "    )\n",
    "    \n",
    "plt.margins(y=0)\n",
    "plt.xlabel('IQ')\n",
    "plt.ylabel('P(x)')\n",
    "plt.title('Normal Distribution of IQ Test')\n",
    "plt.show()"
   ]
  },
  {
   "cell_type": "code",
   "execution_count": 52,
   "metadata": {},
   "outputs": [],
   "source": [
    "# Building a Covariance Matrix\n",
    "a = np.array([1,2,3,4,5,6])\n",
    "b = np.array([1,3,5,7,9,11])\n",
    "c = np.array([10,20,30,40,50,60])\n",
    "d = np.array([2,5,5,2,1,0])\n",
    "e = np.array([4,5,6,7,8,9])"
   ]
  },
  {
   "cell_type": "code",
   "execution_count": 69,
   "metadata": {},
   "outputs": [
    {
     "data": {
      "text/plain": [
       "array([[ 1,  1, 10,  2,  4],\n",
       "       [ 2,  3, 20,  5,  5],\n",
       "       [ 3,  5, 30,  5,  6],\n",
       "       [ 4,  7, 40,  2,  7],\n",
       "       [ 5,  9, 50,  1,  8],\n",
       "       [ 6, 11, 60,  0,  9]])"
      ]
     },
     "execution_count": 69,
     "metadata": {},
     "output_type": "execute_result"
    }
   ],
   "source": [
    "M = np.stack([a, b, c, d, e], axis=1)\n",
    "M"
   ]
  },
  {
   "cell_type": "code",
   "execution_count": 87,
   "metadata": {},
   "outputs": [
    {
     "data": {
      "text/plain": [
       "array([[ 14.3 ,  27.25,  41.4 ,  56.75,  71.3 ,  85.85],\n",
       "       [ 27.25,  54.5 ,  83.25, 113.5 , 142.75, 172.  ],\n",
       "       [ 41.4 ,  83.25, 128.7 , 177.75, 224.4 , 271.05],\n",
       "       [ 56.75, 113.5 , 177.75, 249.5 , 316.25, 383.  ],\n",
       "       [ 71.3 , 142.75, 224.4 , 316.25, 401.3 , 486.35],\n",
       "       [ 85.85, 172.  , 271.05, 383.  , 486.35, 589.7 ]])"
      ]
     },
     "execution_count": 87,
     "metadata": {},
     "output_type": "execute_result"
    }
   ],
   "source": [
    "np.cov(M)"
   ]
  },
  {
   "cell_type": "code",
   "execution_count": null,
   "metadata": {},
   "outputs": [],
   "source": []
  }
 ],
 "metadata": {
  "kernelspec": {
   "display_name": "Python 3",
   "language": "python",
   "name": "python3"
  },
  "language_info": {
   "codemirror_mode": {
    "name": "ipython",
    "version": 3
   },
   "file_extension": ".py",
   "mimetype": "text/x-python",
   "name": "python",
   "nbconvert_exporter": "python",
   "pygments_lexer": "ipython3",
   "version": "3.7.3"
  }
 },
 "nbformat": 4,
 "nbformat_minor": 2
}
