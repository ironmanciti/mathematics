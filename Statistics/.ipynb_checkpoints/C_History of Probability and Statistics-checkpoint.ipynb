{
 "cells": [
  {
   "cell_type": "markdown",
   "metadata": {},
   "source": [
    "# History of Probability and Statistics\n",
    "\n",
    "<img src=\"history.PNG\" width=\"500\" />\n",
    "\n",
    "동전던지기, Game 과 같이 반복이 가능한 경우 game 의 결과는 확률에 수렴한다.\n",
    "\n",
    "### 반복이 가능하지 않은 경우의 확률\n",
    "- 내일 비가 올 확률이 10 % 라는 기상예보\n",
    "    * 내일은 반복할 수 없고 단 1 회만 있음  \n",
    "    \n",
    "    \n",
    "- 외과 의사가 2 % 확률의 합병증이라고 할 경우  \n",
    "    * 수술은 한번만 있음  \n",
    "    * 수술 받은 환자의 2% 가 합병증이 있었다는 뜻일 것이나 그 것이 당신에게 의미하는 바는 무었인가 ?\n",
    "    * 수술 받은 환자의 대부분이 90 세 이상이고 당신이 30세라면 그 확률은 당신에게 무의미함"
   ]
  },
  {
   "cell_type": "code",
   "execution_count": null,
   "metadata": {},
   "outputs": [],
   "source": []
  }
 ],
 "metadata": {
  "kernelspec": {
   "display_name": "Python 3",
   "language": "python",
   "name": "python3"
  },
  "language_info": {
   "codemirror_mode": {
    "name": "ipython",
    "version": 3
   },
   "file_extension": ".py",
   "mimetype": "text/x-python",
   "name": "python",
   "nbconvert_exporter": "python",
   "pygments_lexer": "ipython3",
   "version": "3.6.8"
  }
 },
 "nbformat": 4,
 "nbformat_minor": 2
}
