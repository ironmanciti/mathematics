{
 "cells": [
  {
   "cell_type": "markdown",
   "metadata": {},
   "source": [
    "# Chapter 3. 행렬연산 (Matrix Operation)"
   ]
  },
  {
   "cell_type": "code",
   "execution_count": 86,
   "metadata": {},
   "outputs": [
    {
     "name": "stdout",
     "output_type": "stream",
     "text": [
      "[[ 1  3  0]\n",
      " [-3  4  4]]\n",
      "[[ 2  4 -8]\n",
      " [-4  2  6]]\n",
      "[[-1 -1]\n",
      " [-2 -2]]\n"
     ]
    }
   ],
   "source": [
    "import numpy as np\n",
    "\n",
    "A = np.array([[1,2,-4], [-2,1,3]])\n",
    "B = np.array([[0,1,4], [-1,3,1]])\n",
    "C = np.array([[1,1], [2,2]])\n",
    "\n",
    "print(A + B)\n",
    "print(2 * A)\n",
    "print((-1)*C)"
   ]
  },
  {
   "cell_type": "markdown",
   "metadata": {},
   "source": [
    "## 행렬의 곱셈 (Matrix Mulitplication)"
   ]
  },
  {
   "cell_type": "code",
   "execution_count": 26,
   "metadata": {},
   "outputs": [
    {
     "data": {
      "text/plain": [
       "array([[-4, -6],\n",
       "       [-6,  0]])"
      ]
     },
     "execution_count": 26,
     "metadata": {},
     "output_type": "execute_result"
    }
   ],
   "source": [
    "A = np.array([[1,2,-1], [3,1,0]])\n",
    "B = np.array([[-2,1], [0,-3], [2,1]])\n",
    "np.matmul(A, B)"
   ]
  },
  {
   "cell_type": "code",
   "execution_count": 27,
   "metadata": {},
   "outputs": [],
   "source": [
    "A = np.array([[5,2,3], [-2,-3,4]])\n",
    "B = np.array([[1,0,1,0], [0,2,2,2], [3,0,-1,3]])\n",
    "C = np.array([[1,0], [2,-3], [2,1]])\n",
    "D = np.array([[-1,0], [2,3]])\n",
    "E = np.array([[1,2], [3,0]])"
   ]
  },
  {
   "cell_type": "markdown",
   "metadata": {},
   "source": [
    "#### 곱셈의 교환법칙은 일반적으로 성립하지 않는다."
   ]
  },
  {
   "cell_type": "code",
   "execution_count": 28,
   "metadata": {},
   "outputs": [
    {
     "name": "stdout",
     "output_type": "stream",
     "text": [
      "[[-1 -2]\n",
      " [11  4]]\n",
      "[[ 3  6]\n",
      " [-3  0]]\n"
     ]
    }
   ],
   "source": [
    "print(np.matmul(D, E))\n",
    "print(np.matmul(E, D))"
   ]
  },
  {
   "cell_type": "markdown",
   "metadata": {},
   "source": [
    "#### 단위행렬"
   ]
  },
  {
   "cell_type": "code",
   "execution_count": 29,
   "metadata": {},
   "outputs": [],
   "source": [
    "A = np.array([[4,-2,3], [5,0,2]])\n",
    "I2 = np.array([[1, 0], [0, 1]])\n",
    "I3 = np.array([[1, 0, 0], [0, 1, 0], [0, 0, 1]])"
   ]
  },
  {
   "cell_type": "code",
   "execution_count": 30,
   "metadata": {},
   "outputs": [
    {
     "name": "stdout",
     "output_type": "stream",
     "text": [
      "[[ 4 -2  3]\n",
      " [ 5  0  2]]\n",
      "True\n",
      "[[ 4 -2  3]\n",
      " [ 5  0  2]]\n",
      "True\n"
     ]
    }
   ],
   "source": [
    "print(np.matmul(I2, A))\n",
    "print(np.array_equal(np.matmul(I2, A), A))\n",
    "print(np.matmul(A, I3))\n",
    "print(np.array_equal(np.matmul(A, I3), A))"
   ]
  },
  {
   "cell_type": "markdown",
   "metadata": {},
   "source": [
    "#### 행렬의 거듭제곱 (power)"
   ]
  },
  {
   "cell_type": "code",
   "execution_count": 31,
   "metadata": {},
   "outputs": [
    {
     "name": "stdout",
     "output_type": "stream",
     "text": [
      "[[  6  -8]\n",
      " [ 20 -10]]\n",
      "[[-16 -12]\n",
      " [ 30 -40]]\n",
      "[[1 0]\n",
      " [0 1]]\n",
      "True\n"
     ]
    }
   ],
   "source": [
    "A = np.array([[4, -2], [5, 0]])\n",
    "print(np.linalg.matrix_power(A, 2))\n",
    "print(np.linalg.matrix_power(A, 3))        # 실수의 거듭제곱과 같은 형식\n",
    "print(np.linalg.matrix_power(A, 0))       # 지수가 0 이면 단위행렬 생성 (정의)\n",
    "print(np.array_equal(np.linalg.matrix_power(np.linalg.matrix_power(A, 2), 3), np.linalg.matrix_power(A, 6)))  # 지수법칙 성립"
   ]
  },
  {
   "cell_type": "markdown",
   "metadata": {},
   "source": [
    "#### 전치행렬"
   ]
  },
  {
   "cell_type": "code",
   "execution_count": 32,
   "metadata": {},
   "outputs": [],
   "source": [
    "A = np.array([[1,-2,3], [4,5,0]])\n",
    "B = np.array([[1,2,-4], [3,-1,2], [0,5,3]])\n",
    "C = np.array([[5, 4], [-3, 2], [2, 1]])\n",
    "D = np.array([[3, 0, 1]])\n",
    "E = np.array([[2], [0], [-3]])"
   ]
  },
  {
   "cell_type": "code",
   "execution_count": 35,
   "metadata": {},
   "outputs": [
    {
     "name": "stdout",
     "output_type": "stream",
     "text": [
      "[[ 1 -2  3]\n",
      " [ 4  5  0]]\n",
      "[[ 1  2 -4]\n",
      " [ 3 -1  2]\n",
      " [ 0  5  3]]\n",
      "[[ 5  4]\n",
      " [-3  2]\n",
      " [ 2  1]]\n",
      "[[3 0 1]]\n",
      "[[ 2]\n",
      " [ 0]\n",
      " [-3]]\n"
     ]
    }
   ],
   "source": [
    "print(A)\n",
    "print(B)\n",
    "print(C)\n",
    "print(D)\n",
    "print(E)"
   ]
  },
  {
   "cell_type": "code",
   "execution_count": 36,
   "metadata": {},
   "outputs": [
    {
     "name": "stdout",
     "output_type": "stream",
     "text": [
      "[[ 1  4]\n",
      " [-2  5]\n",
      " [ 3  0]]\n",
      "[[ 1  3  0]\n",
      " [ 2 -1  5]\n",
      " [-4  2  3]]\n",
      "[[ 5 -3  2]\n",
      " [ 4  2  1]]\n",
      "[[3]\n",
      " [0]\n",
      " [1]]\n",
      "[[ 2  0 -3]]\n"
     ]
    }
   ],
   "source": [
    "print(np.transpose(A))\n",
    "print(B.T)\n",
    "print(C.T)\n",
    "print(D.T)\n",
    "print(np.transpose(E))"
   ]
  },
  {
   "cell_type": "markdown",
   "metadata": {},
   "source": [
    "#### $(AB)^T = B^T A^T$"
   ]
  },
  {
   "cell_type": "code",
   "execution_count": 37,
   "metadata": {},
   "outputs": [
    {
     "data": {
      "text/plain": [
       "True"
      ]
     },
     "execution_count": 37,
     "metadata": {},
     "output_type": "execute_result"
    }
   ],
   "source": [
    "A = np.array([[1,3], [2,5]])\n",
    "B = np.array([[1, 1, 3], [2, 1, 4]])\n",
    "AB = np.matmul(A, B)\n",
    "np.array_equal(AB.T, np.matmul(B.T, A.T))"
   ]
  },
  {
   "cell_type": "markdown",
   "metadata": {},
   "source": [
    "#### 대각합(trace) : tr(AB) = tr(BA)  --> 주대각선 성분의 합은 같다"
   ]
  },
  {
   "cell_type": "code",
   "execution_count": 43,
   "metadata": {},
   "outputs": [
    {
     "name": "stdout",
     "output_type": "stream",
     "text": [
      "[[ 1 -2]\n",
      " [ 4  5]]\n",
      "[[ 5  4]\n",
      " [-3  2]]\n",
      "\n",
      "[[11  0]\n",
      " [ 5 26]]\n",
      "[[21 10]\n",
      " [ 5 16]]\n"
     ]
    },
    {
     "data": {
      "text/plain": [
       "True"
      ]
     },
     "execution_count": 43,
     "metadata": {},
     "output_type": "execute_result"
    }
   ],
   "source": [
    "A = np.array([[1, -2], [4, 5]])\n",
    "B = np.array([[5, 4], [-3, 2]])\n",
    "print(A)\n",
    "print(B)\n",
    "print()\n",
    "print(A.dot(B))\n",
    "print(B.dot(A))\n",
    "np.array_equal(np.trace(A.dot(B)), np.trace(B.dot(A)))"
   ]
  },
  {
   "cell_type": "markdown",
   "metadata": {},
   "source": [
    "#### 역행렬"
   ]
  },
  {
   "cell_type": "code",
   "execution_count": 45,
   "metadata": {},
   "outputs": [
    {
     "name": "stdout",
     "output_type": "stream",
     "text": [
      "[[3 5]\n",
      " [1 2]]\n",
      "[[1 3]\n",
      " [2 7]]\n",
      "\n",
      "[[ 17. -44.]\n",
      " [ -5.  13.]]\n",
      "[[ 17. -44.]\n",
      " [ -5.  13.]]\n"
     ]
    }
   ],
   "source": [
    "A = np.array([[3, 5], [1, 2]])\n",
    "B = np.array([[1,3], [2,7]])\n",
    "print(A)\n",
    "print(B)\n",
    "print()\n",
    "print(np.linalg.inv(np.matmul(A, B)))\n",
    "print(np.matmul(np.linalg.inv(B), np.linalg.inv(A)))"
   ]
  },
  {
   "cell_type": "code",
   "execution_count": 47,
   "metadata": {},
   "outputs": [
    {
     "name": "stdout",
     "output_type": "stream",
     "text": [
      "[[1 2 3]\n",
      " [2 5 3]\n",
      " [1 0 8]]\n",
      "[[-40.  16.   9.]\n",
      " [ 13.  -5.  -3.]\n",
      " [  5.  -2.  -1.]]\n"
     ]
    }
   ],
   "source": [
    "A = np.array([[1,2,3], [2,5,3], [1,0,8]])\n",
    "print(A)\n",
    "print(np.linalg.inv(A))"
   ]
  },
  {
   "cell_type": "code",
   "execution_count": 48,
   "metadata": {},
   "outputs": [
    {
     "ename": "LinAlgError",
     "evalue": "Singular matrix",
     "output_type": "error",
     "traceback": [
      "\u001b[1;31m---------------------------------------------------------------------------\u001b[0m",
      "\u001b[1;31mLinAlgError\u001b[0m                               Traceback (most recent call last)",
      "\u001b[1;32m<ipython-input-48-1beba5959166>\u001b[0m in \u001b[0;36m<module>\u001b[1;34m\u001b[0m\n\u001b[0;32m      1\u001b[0m \u001b[0mA\u001b[0m \u001b[1;33m=\u001b[0m \u001b[0mnp\u001b[0m\u001b[1;33m.\u001b[0m\u001b[0marray\u001b[0m\u001b[1;33m(\u001b[0m\u001b[1;33m[\u001b[0m\u001b[1;33m[\u001b[0m\u001b[1;36m1\u001b[0m\u001b[1;33m,\u001b[0m \u001b[1;36m6\u001b[0m\u001b[1;33m,\u001b[0m \u001b[1;36m4\u001b[0m\u001b[1;33m]\u001b[0m\u001b[1;33m,\u001b[0m \u001b[1;33m[\u001b[0m\u001b[1;36m2\u001b[0m\u001b[1;33m,\u001b[0m \u001b[1;36m4\u001b[0m\u001b[1;33m,\u001b[0m \u001b[1;33m-\u001b[0m\u001b[1;36m1\u001b[0m\u001b[1;33m]\u001b[0m\u001b[1;33m,\u001b[0m \u001b[1;33m[\u001b[0m\u001b[1;33m-\u001b[0m\u001b[1;36m1\u001b[0m\u001b[1;33m,\u001b[0m \u001b[1;36m2\u001b[0m\u001b[1;33m,\u001b[0m \u001b[1;36m5\u001b[0m\u001b[1;33m]\u001b[0m\u001b[1;33m]\u001b[0m\u001b[1;33m)\u001b[0m\u001b[1;33m\u001b[0m\u001b[1;33m\u001b[0m\u001b[0m\n\u001b[1;32m----> 2\u001b[1;33m \u001b[0mnp\u001b[0m\u001b[1;33m.\u001b[0m\u001b[0mlinalg\u001b[0m\u001b[1;33m.\u001b[0m\u001b[0minv\u001b[0m\u001b[1;33m(\u001b[0m\u001b[0mA\u001b[0m\u001b[1;33m)\u001b[0m\u001b[1;33m\u001b[0m\u001b[1;33m\u001b[0m\u001b[0m\n\u001b[0m",
      "\u001b[1;32m~\\Miniconda3\\envs\\py37\\lib\\site-packages\\numpy\\linalg\\linalg.py\u001b[0m in \u001b[0;36minv\u001b[1;34m(a)\u001b[0m\n\u001b[0;32m    549\u001b[0m     \u001b[0msignature\u001b[0m \u001b[1;33m=\u001b[0m \u001b[1;34m'D->D'\u001b[0m \u001b[1;32mif\u001b[0m \u001b[0misComplexType\u001b[0m\u001b[1;33m(\u001b[0m\u001b[0mt\u001b[0m\u001b[1;33m)\u001b[0m \u001b[1;32melse\u001b[0m \u001b[1;34m'd->d'\u001b[0m\u001b[1;33m\u001b[0m\u001b[1;33m\u001b[0m\u001b[0m\n\u001b[0;32m    550\u001b[0m     \u001b[0mextobj\u001b[0m \u001b[1;33m=\u001b[0m \u001b[0mget_linalg_error_extobj\u001b[0m\u001b[1;33m(\u001b[0m\u001b[0m_raise_linalgerror_singular\u001b[0m\u001b[1;33m)\u001b[0m\u001b[1;33m\u001b[0m\u001b[1;33m\u001b[0m\u001b[0m\n\u001b[1;32m--> 551\u001b[1;33m     \u001b[0mainv\u001b[0m \u001b[1;33m=\u001b[0m \u001b[0m_umath_linalg\u001b[0m\u001b[1;33m.\u001b[0m\u001b[0minv\u001b[0m\u001b[1;33m(\u001b[0m\u001b[0ma\u001b[0m\u001b[1;33m,\u001b[0m \u001b[0msignature\u001b[0m\u001b[1;33m=\u001b[0m\u001b[0msignature\u001b[0m\u001b[1;33m,\u001b[0m \u001b[0mextobj\u001b[0m\u001b[1;33m=\u001b[0m\u001b[0mextobj\u001b[0m\u001b[1;33m)\u001b[0m\u001b[1;33m\u001b[0m\u001b[1;33m\u001b[0m\u001b[0m\n\u001b[0m\u001b[0;32m    552\u001b[0m     \u001b[1;32mreturn\u001b[0m \u001b[0mwrap\u001b[0m\u001b[1;33m(\u001b[0m\u001b[0mainv\u001b[0m\u001b[1;33m.\u001b[0m\u001b[0mastype\u001b[0m\u001b[1;33m(\u001b[0m\u001b[0mresult_t\u001b[0m\u001b[1;33m,\u001b[0m \u001b[0mcopy\u001b[0m\u001b[1;33m=\u001b[0m\u001b[1;32mFalse\u001b[0m\u001b[1;33m)\u001b[0m\u001b[1;33m)\u001b[0m\u001b[1;33m\u001b[0m\u001b[1;33m\u001b[0m\u001b[0m\n\u001b[0;32m    553\u001b[0m \u001b[1;33m\u001b[0m\u001b[0m\n",
      "\u001b[1;32m~\\Miniconda3\\envs\\py37\\lib\\site-packages\\numpy\\linalg\\linalg.py\u001b[0m in \u001b[0;36m_raise_linalgerror_singular\u001b[1;34m(err, flag)\u001b[0m\n\u001b[0;32m     95\u001b[0m \u001b[1;33m\u001b[0m\u001b[0m\n\u001b[0;32m     96\u001b[0m \u001b[1;32mdef\u001b[0m \u001b[0m_raise_linalgerror_singular\u001b[0m\u001b[1;33m(\u001b[0m\u001b[0merr\u001b[0m\u001b[1;33m,\u001b[0m \u001b[0mflag\u001b[0m\u001b[1;33m)\u001b[0m\u001b[1;33m:\u001b[0m\u001b[1;33m\u001b[0m\u001b[1;33m\u001b[0m\u001b[0m\n\u001b[1;32m---> 97\u001b[1;33m     \u001b[1;32mraise\u001b[0m \u001b[0mLinAlgError\u001b[0m\u001b[1;33m(\u001b[0m\u001b[1;34m\"Singular matrix\"\u001b[0m\u001b[1;33m)\u001b[0m\u001b[1;33m\u001b[0m\u001b[1;33m\u001b[0m\u001b[0m\n\u001b[0m\u001b[0;32m     98\u001b[0m \u001b[1;33m\u001b[0m\u001b[0m\n\u001b[0;32m     99\u001b[0m \u001b[1;32mdef\u001b[0m \u001b[0m_raise_linalgerror_nonposdef\u001b[0m\u001b[1;33m(\u001b[0m\u001b[0merr\u001b[0m\u001b[1;33m,\u001b[0m \u001b[0mflag\u001b[0m\u001b[1;33m)\u001b[0m\u001b[1;33m:\u001b[0m\u001b[1;33m\u001b[0m\u001b[1;33m\u001b[0m\u001b[0m\n",
      "\u001b[1;31mLinAlgError\u001b[0m: Singular matrix"
     ]
    }
   ],
   "source": [
    "A = np.array([[1, 6, 4], [2, 4, -1], [-1, 2, 5]])\n",
    "np.linalg.inv(A)"
   ]
  },
  {
   "cell_type": "code",
   "execution_count": 49,
   "metadata": {},
   "outputs": [
    {
     "name": "stdout",
     "output_type": "stream",
     "text": [
      "[[ 1 -1  2]\n",
      " [-1  0  2]\n",
      " [-6  4 11]]\n"
     ]
    },
    {
     "data": {
      "text/plain": [
       "array([[ 0.53333333, -1.26666667,  0.13333333],\n",
       "       [ 0.06666667, -1.53333333,  0.26666667],\n",
       "       [ 0.26666667, -0.13333333,  0.06666667]])"
      ]
     },
     "execution_count": 49,
     "metadata": {},
     "output_type": "execute_result"
    }
   ],
   "source": [
    "A = np.array([[1, -1, 2], [-1, 0, 2], [-6, 4, 11]])\n",
    "print(A)\n",
    "np.linalg.inv(A)"
   ]
  },
  {
   "cell_type": "markdown",
   "metadata": {},
   "source": [
    "### 만일 A 가 가역행렬이면, $A^T$ 도 가역행렬이고 다음이 성립한다.\n",
    "$$ (A^T)^{-1} = (A^{-1})^T$$"
   ]
  },
  {
   "cell_type": "code",
   "execution_count": 57,
   "metadata": {},
   "outputs": [
    {
     "name": "stdout",
     "output_type": "stream",
     "text": [
      "[[3 5]\n",
      " [1 2]]\n",
      "[[1 3]\n",
      " [2 7]]\n",
      "\n",
      "[[ 17. -44.]\n",
      " [ -5.  13.]]\n",
      "[[ 17. -44.]\n",
      " [ -5.  13.]]\n"
     ]
    }
   ],
   "source": [
    "# 예제 4\n",
    "A = np.array([[3, 5], [1, 2]])\n",
    "B = np.array([[1, 3], [2, 7]])\n",
    "print(A)\n",
    "print(B)\n",
    "print()\n",
    "print(np.linalg.inv(A.dot(B)))\n",
    "print(np.linalg.inv(B).dot(np.linalg.inv(A)))"
   ]
  },
  {
   "cell_type": "code",
   "execution_count": 59,
   "metadata": {},
   "outputs": [
    {
     "name": "stdout",
     "output_type": "stream",
     "text": [
      "[[1 2 3]\n",
      " [2 5 3]\n",
      " [1 0 8]]\n"
     ]
    },
    {
     "data": {
      "text/plain": [
       "array([[-40.,  16.,   9.],\n",
       "       [ 13.,  -5.,  -3.],\n",
       "       [  5.,  -2.,  -1.]])"
      ]
     },
     "execution_count": 59,
     "metadata": {},
     "output_type": "execute_result"
    }
   ],
   "source": [
    "#예제 4 다음행렬의 역행렬\n",
    "\n",
    "A = np.array([[1, 2, 3], [2, 5, 3], [1, 0, 8]])\n",
    "print(A)\n",
    "np.linalg.inv(A)"
   ]
  },
  {
   "cell_type": "code",
   "execution_count": 60,
   "metadata": {},
   "outputs": [
    {
     "name": "stdout",
     "output_type": "stream",
     "text": [
      "[[ 1 -1  2]\n",
      " [-1  0  2]\n",
      " [-6  4 11]]\n"
     ]
    },
    {
     "data": {
      "text/plain": [
       "array([[ 0.53333333, -1.26666667,  0.13333333],\n",
       "       [ 0.06666667, -1.53333333,  0.26666667],\n",
       "       [ 0.26666667, -0.13333333,  0.06666667]])"
      ]
     },
     "execution_count": 60,
     "metadata": {},
     "output_type": "execute_result"
    }
   ],
   "source": [
    "#예제 5 역행렬구하기\n",
    "A = np.array([[1, -1, 2], [-1, 0, 2], [-6, 4, 11]])\n",
    "print(A)\n",
    "np.linalg.inv(A)"
   ]
  },
  {
   "cell_type": "markdown",
   "metadata": {},
   "source": [
    "### 3.5 선형연립방정식의 해집합과 행렬"
   ]
  },
  {
   "cell_type": "code",
   "execution_count": 65,
   "metadata": {},
   "outputs": [
    {
     "name": "stdout",
     "output_type": "stream",
     "text": [
      "[[1 2 3]\n",
      " [2 5 3]\n",
      " [1 0 8]]\n",
      "[[ 1  3 -1]]\n"
     ]
    }
   ],
   "source": [
    "# 예제 1\n",
    "# Ax = b 에서 유일한 해를 구하라\n",
    "import numpy as np\n",
    "\n",
    "A = np.matrix([[1,2,3], [2,5,3], [1,0,8]])\n",
    "b = np.matrix([1,3,-1])\n",
    "print(A)\n",
    "print(b)"
   ]
  },
  {
   "cell_type": "code",
   "execution_count": 66,
   "metadata": {},
   "outputs": [
    {
     "data": {
      "text/plain": [
       "matrix([[-1.0000000e+00],\n",
       "        [ 1.0000000e+00],\n",
       "        [-4.4408921e-16]])"
      ]
     },
     "execution_count": 66,
     "metadata": {},
     "output_type": "execute_result"
    }
   ],
   "source": [
    "# x = A^(-1) b --> 유일한 해\n",
    "np.linalg.inv(A).dot(b.T)"
   ]
  },
  {
   "cell_type": "code",
   "execution_count": 70,
   "metadata": {},
   "outputs": [
    {
     "name": "stdout",
     "output_type": "stream",
     "text": [
      "[[ 1  0  0]\n",
      " [ 0 -3  0]\n",
      " [ 0  0  2]]\n",
      "[[   1    0    0]\n",
      " [   0 -243    0]\n",
      " [   0    0   32]]\n"
     ]
    }
   ],
   "source": [
    "#예제 2 \n",
    "# 대각선행렬의 거듭제곱은 주대각선성분을 거듭제곱한 대각선 행렬과 같다\n",
    "D = np.diag([1, -3, 2])\n",
    "print(D)\n",
    "print(D**5)"
   ]
  },
  {
   "cell_type": "code",
   "execution_count": 75,
   "metadata": {},
   "outputs": [
    {
     "name": "stdout",
     "output_type": "stream",
     "text": [
      "[[1 2 3]\n",
      " [2 4 5]\n",
      " [3 5 6]]\n",
      "[[ 0  1 -2]\n",
      " [-1  0  3]\n",
      " [ 2 -3  0]]\n",
      "[[1 0 0]\n",
      " [0 1 0]\n",
      " [0 0 1]]\n"
     ]
    }
   ],
   "source": [
    "A = np.matrix('1 2 3;2 4 5;3 5 6')\n",
    "B = np.matrix('0 1 -2; -1 0 3; 2 -3 0')\n",
    "I3 = np.matrix('1 0 0;0 1 0;0 0 1')\n",
    "print(A)\n",
    "print(B)\n",
    "print(I3)"
   ]
  },
  {
   "cell_type": "code",
   "execution_count": 76,
   "metadata": {},
   "outputs": [
    {
     "data": {
      "text/plain": [
       "matrix([[ True,  True,  True],\n",
       "        [ True,  True,  True],\n",
       "        [ True,  True,  True]])"
      ]
     },
     "execution_count": 76,
     "metadata": {},
     "output_type": "execute_result"
    }
   ],
   "source": [
    "A.T == A"
   ]
  },
  {
   "cell_type": "code",
   "execution_count": 79,
   "metadata": {},
   "outputs": [
    {
     "data": {
      "text/plain": [
       "matrix([[ True,  True,  True],\n",
       "        [ True,  True,  True],\n",
       "        [ True,  True,  True]])"
      ]
     },
     "execution_count": 79,
     "metadata": {},
     "output_type": "execute_result"
    }
   ],
   "source": [
    "B.T == -B"
   ]
  },
  {
   "cell_type": "markdown",
   "metadata": {},
   "source": [
    "## LU 분해 (LU decomposition)"
   ]
  },
  {
   "cell_type": "code",
   "execution_count": 85,
   "metadata": {},
   "outputs": [
    {
     "data": {
      "text/plain": [
       "(array([[0., 1., 0.],\n",
       "        [0., 0., 1.],\n",
       "        [1., 0., 0.]]),\n",
       " array([[ 1.00000000e+00,  0.00000000e+00,  0.00000000e+00],\n",
       "        [ 3.33333333e-01,  1.00000000e+00,  0.00000000e+00],\n",
       "        [ 6.66666667e-01, -2.22044605e-16,  1.00000000e+00]]),\n",
       " array([[ 3.        ,  6.        , -5.        ],\n",
       "        [ 0.        , -1.        ,  3.66666667],\n",
       "        [ 0.        ,  0.        ,  0.33333333]]))"
      ]
     },
     "execution_count": 85,
     "metadata": {},
     "output_type": "execute_result"
    }
   ],
   "source": [
    "import scipy.linalg as la\n",
    "\n",
    "A = np.array([[1,1,2], [2,4,-3], [3,6,-5]])\n",
    "la.lu(A)"
   ]
  },
  {
   "cell_type": "markdown",
   "metadata": {},
   "source": [
    "### 연습문제"
   ]
  },
  {
   "cell_type": "code",
   "execution_count": 18,
   "metadata": {},
   "outputs": [
    {
     "name": "stdout",
     "output_type": "stream",
     "text": [
      "[[51 35]\n",
      " [61 23]]\n",
      "[[51 35]\n",
      " [61 23]]\n"
     ]
    }
   ],
   "source": [
    "A = np.array([[1, 3], [4, -1]])\n",
    "B = np.array([[-1, 2, 5], [1, -1, 4]])\n",
    "C = np.array([[1, 0], [2, -1], [3, 2]])\n",
    "\n",
    "print(A.dot(np.matmul(B, C)))\n",
    "print(np.matmul(A, B).dot(C))"
   ]
  },
  {
   "cell_type": "code",
   "execution_count": 19,
   "metadata": {},
   "outputs": [
    {
     "name": "stdout",
     "output_type": "stream",
     "text": [
      "[[ 8 -6]\n",
      " [-8  6]]\n",
      "[[ 8 -6]\n",
      " [-8  6]]\n"
     ]
    }
   ],
   "source": [
    "A = np.array([[-2, 3], [2, -3]])\n",
    "B = np.array([[-1, 3], [2, 0]])\n",
    "C = np.array([[-4, -3], [0, -4]])\n",
    "\n",
    "print(np.matmul(A, B))\n",
    "print(np.matmul(A, C))"
   ]
  },
  {
   "cell_type": "code",
   "execution_count": 25,
   "metadata": {},
   "outputs": [
    {
     "data": {
      "text/plain": [
       "array([[ 14., 132.],\n",
       "       [176., -74.]])"
      ]
     },
     "execution_count": 25,
     "metadata": {},
     "output_type": "execute_result"
    }
   ],
   "source": [
    "A = np.array([[1, 3], [4, -1]])\n",
    "\n",
    "3 * np.linalg.matrix_power(A, 3) - 2 * np.linalg.matrix_power(A, 2) + 5 * A - 4 * np.eye(2)"
   ]
  },
  {
   "cell_type": "code",
   "execution_count": 28,
   "metadata": {},
   "outputs": [
    {
     "name": "stdout",
     "output_type": "stream",
     "text": [
      "[[ 2.0000000e+00 -1.0000000e+00  4.4408921e-16]\n",
      " [-1.7000000e+01  1.1000000e+01  3.0000000e+00]\n",
      " [ 1.1000000e+01 -7.0000000e+00 -2.0000000e+00]]\n",
      "[[ 2.00000000e+00 -1.00000000e+00  6.66133815e-16]\n",
      " [-1.70000000e+01  1.10000000e+01  3.00000000e+00]\n",
      " [ 1.10000000e+01 -7.00000000e+00 -2.00000000e+00]]\n"
     ]
    }
   ],
   "source": [
    "A = np.array([[1,1,2], [2,4,-3],[3,6,-5]])\n",
    "b = np.array([[2, -17, 11], [-1, 11, -7], [0, 3, -2]])\n",
    "\n",
    "print(np.linalg.inv(np.transpose(A)))\n",
    "print(np.transpose(np.linalg.inv(A)))"
   ]
  },
  {
   "cell_type": "code",
   "execution_count": null,
   "metadata": {},
   "outputs": [],
   "source": []
  }
 ],
 "metadata": {
  "kernelspec": {
   "display_name": "Python 3",
   "language": "python",
   "name": "python3"
  },
  "language_info": {
   "codemirror_mode": {
    "name": "ipython",
    "version": 3
   },
   "file_extension": ".py",
   "mimetype": "text/x-python",
   "name": "python",
   "nbconvert_exporter": "python",
   "pygments_lexer": "ipython3",
   "version": "3.7.2"
  }
 },
 "nbformat": 4,
 "nbformat_minor": 2
}
