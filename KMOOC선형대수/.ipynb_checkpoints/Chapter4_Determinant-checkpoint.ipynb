{
 "cells": [
  {
   "cell_type": "markdown",
   "metadata": {},
   "source": [
    "# Chapter 4. 행렬식(Determinant)"
   ]
  },
  {
   "cell_type": "code",
   "execution_count": 1,
   "metadata": {},
   "outputs": [],
   "source": [
    "import numpy as np"
   ]
  },
  {
   "cell_type": "code",
   "execution_count": 2,
   "metadata": {},
   "outputs": [
    {
     "data": {
      "text/plain": [
       "4.999999999999999"
      ]
     },
     "execution_count": 2,
     "metadata": {},
     "output_type": "execute_result"
    }
   ],
   "source": [
    "a = np.array([[5]])\n",
    "np.linalg.det(a)"
   ]
  },
  {
   "cell_type": "code",
   "execution_count": 3,
   "metadata": {},
   "outputs": [
    {
     "data": {
      "text/plain": [
       "-10.000000000000002"
      ]
     },
     "execution_count": 3,
     "metadata": {},
     "output_type": "execute_result"
    }
   ],
   "source": [
    "b = np.array([[3,1], [4,-2]])\n",
    "np.linalg.det(b)"
   ]
  },
  {
   "cell_type": "code",
   "execution_count": 4,
   "metadata": {},
   "outputs": [
    {
     "data": {
      "text/plain": [
       "240.0000000000002"
      ]
     },
     "execution_count": 4,
     "metadata": {},
     "output_type": "execute_result"
    }
   ],
   "source": [
    "c = np.array([[1,2,3], [-4,5,6], [7,-8,9]])\n",
    "np.linalg.det(c)"
   ]
  },
  {
   "cell_type": "markdown",
   "metadata": {},
   "source": [
    "### $A 와 A^T$ 의 determinant 는 같다"
   ]
  },
  {
   "cell_type": "code",
   "execution_count": 5,
   "metadata": {},
   "outputs": [
    {
     "data": {
      "text/plain": [
       "239.99999999999997"
      ]
     },
     "execution_count": 5,
     "metadata": {},
     "output_type": "execute_result"
    }
   ],
   "source": [
    "d = c.T\n",
    "np.linalg.det(d)"
   ]
  },
  {
   "cell_type": "markdown",
   "metadata": {},
   "source": [
    "### 행렬 B 가 정사각행렬 A 의 두행(열)을 서로 바꾸어 얻어진 행렬이라면, |B| = -|A| 이다."
   ]
  },
  {
   "cell_type": "code",
   "execution_count": 6,
   "metadata": {},
   "outputs": [
    {
     "name": "stdout",
     "output_type": "stream",
     "text": [
      "[[ 2 -1]\n",
      " [ 3  2]]\n",
      "[[ 3  2]\n",
      " [ 2 -1]]\n",
      "\n",
      "6.999999999999999\n",
      "-6.999999999999999\n"
     ]
    }
   ],
   "source": [
    "A = np.array([[2, -1], [3,2]])\n",
    "B = np.array([[3,2], [2,-1]])\n",
    "print(A)\n",
    "print(B)\n",
    "print()\n",
    "print(np.linalg.det(A))\n",
    "print(np.linalg.det(B))"
   ]
  },
  {
   "cell_type": "code",
   "execution_count": 7,
   "metadata": {},
   "outputs": [
    {
     "name": "stdout",
     "output_type": "stream",
     "text": [
      "6.999999999999999\n",
      "-7.000000000000001\n"
     ]
    }
   ],
   "source": [
    "A = np.array([[2, -1], [3,2]])\n",
    "B = np.array([[-1, 2], [2,3]])\n",
    "print(np.linalg.det(A))\n",
    "print(np.linalg.det(B))"
   ]
  },
  {
   "cell_type": "markdown",
   "metadata": {},
   "source": [
    "### 정사각행렬 A 의 두행(열)이 일치하면 |A| = 0 이다."
   ]
  },
  {
   "cell_type": "code",
   "execution_count": 8,
   "metadata": {},
   "outputs": [
    {
     "name": "stdout",
     "output_type": "stream",
     "text": [
      "[[ 1  2  3]\n",
      " [-1  0  7]\n",
      " [ 1  2  3]]\n"
     ]
    },
    {
     "data": {
      "text/plain": [
       "0.0"
      ]
     },
     "execution_count": 8,
     "metadata": {},
     "output_type": "execute_result"
    }
   ],
   "source": [
    "A = np.array([[1,2,3], [-1,0,7], [1,2,3]])\n",
    "print(A)\n",
    "np.linalg.det(A)"
   ]
  },
  {
   "cell_type": "code",
   "execution_count": 9,
   "metadata": {},
   "outputs": [
    {
     "name": "stdout",
     "output_type": "stream",
     "text": [
      "[[ 1  2  1]\n",
      " [-1  0 -1]\n",
      " [ 1  2  1]]\n"
     ]
    },
    {
     "data": {
      "text/plain": [
       "0.0"
      ]
     },
     "execution_count": 9,
     "metadata": {},
     "output_type": "execute_result"
    }
   ],
   "source": [
    "A = np.array([[1,2,1], [-1,0,-1], [1,2,1]])\n",
    "print(A)\n",
    "np.linalg.det(A)"
   ]
  },
  {
   "cell_type": "markdown",
   "metadata": {},
   "source": [
    "### 정사각행렬 A 의 한 행(열)의 성분이 모두 0 이면 |A| = 0"
   ]
  },
  {
   "cell_type": "code",
   "execution_count": 10,
   "metadata": {},
   "outputs": [
    {
     "name": "stdout",
     "output_type": "stream",
     "text": [
      "[[1 2 3]\n",
      " [4 5 6]\n",
      " [0 0 0]]\n"
     ]
    },
    {
     "data": {
      "text/plain": [
       "0.0"
      ]
     },
     "execution_count": 10,
     "metadata": {},
     "output_type": "execute_result"
    }
   ],
   "source": [
    "A = np.array([[1,2,3], [4,5,6], [0,0,0]])\n",
    "print(A)\n",
    "np.linalg.det(A)"
   ]
  },
  {
   "cell_type": "markdown",
   "metadata": {},
   "source": [
    "### 정사각행렬 A 의 한 행을 k(상수) 배하여 얻어진 행렬을 B 라 하면 |B| = k|A| 인 관계가 성립하는 |A| 는 0 이다."
   ]
  },
  {
   "cell_type": "code",
   "execution_count": 11,
   "metadata": {},
   "outputs": [
    {
     "name": "stdout",
     "output_type": "stream",
     "text": [
      "[[1 2 3]\n",
      " [1 5 3]\n",
      " [2 8 6]]\n",
      "[[1 2 3]\n",
      " [1 5 3]\n",
      " [1 4 3]]\n",
      "[[1 2 1]\n",
      " [1 5 1]\n",
      " [1 1 1]]\n",
      "0.0\n",
      "0.0\n",
      "0.0\n"
     ]
    }
   ],
   "source": [
    "A = np.array([[1,2,3], [1,5,3], [2,8,6]])\n",
    "B = np.array([[1,2,3], [1,5,3], [1,4,3]])  # |A| = 2 * |B|\n",
    "C = np.array([[1,2,1], [1,5,1], [1,1,1]])  # |A| = 2 * 3 * |C|\n",
    "print(A)\n",
    "print(B)\n",
    "print(C)\n",
    "print(np.linalg.det(A))\n",
    "print(np.linalg.det(B))\n",
    "print(np.linalg.det(C))"
   ]
  },
  {
   "cell_type": "markdown",
   "metadata": {},
   "source": [
    "### 정사각행렬 A 의 한 행의 k 배를 다른 행에 더하여 얻어진 행렬을 B 라 하면 |B| = |A| 이다."
   ]
  },
  {
   "cell_type": "code",
   "execution_count": 12,
   "metadata": {},
   "outputs": [
    {
     "name": "stdout",
     "output_type": "stream",
     "text": [
      "[[ 1  2  3]\n",
      " [ 2 -1  3]\n",
      " [ 1  0  1]]\n",
      "[[ 5  0  9]\n",
      " [ 2 -1  3]\n",
      " [ 1  0  1]]\n",
      "4.000000000000001\n",
      "4.0\n"
     ]
    }
   ],
   "source": [
    "A = np.array([[1,2,3], [2,-1,3], [1,0,1]])  # 2 행을 1 배 하여 1 행에 더함\n",
    "B = np.array([[5,0,9], [2,-1,3], [1,0,1]]) \n",
    "print(A)\n",
    "print(B)\n",
    "print(np.linalg.det(A))\n",
    "print(np.linalg.det(B))"
   ]
  },
  {
   "cell_type": "markdown",
   "metadata": {},
   "source": [
    "### A 가 n 차의 삼각행렬이면 A 의 행렬식은 주대각성분의 곱과 같다."
   ]
  },
  {
   "cell_type": "code",
   "execution_count": 13,
   "metadata": {},
   "outputs": [
    {
     "data": {
      "text/plain": [
       "array([[ 2,  7, -3,  8,  3],\n",
       "       [ 0, -3,  7,  5,  1],\n",
       "       [ 0,  0,  6,  7,  6],\n",
       "       [ 0,  0,  0,  9,  8],\n",
       "       [ 0,  0,  0,  0,  4]])"
      ]
     },
     "execution_count": 13,
     "metadata": {},
     "output_type": "execute_result"
    }
   ],
   "source": [
    "A = np.array([[2,7,-3,8,3], [0,-3,7,5,1], [0,0,6,7,6], [0,0,0,9,8], [0,0,0,0,4]])\n",
    "A"
   ]
  },
  {
   "cell_type": "code",
   "execution_count": 14,
   "metadata": {},
   "outputs": [
    {
     "name": "stdout",
     "output_type": "stream",
     "text": [
      "-1295.9999999999998\n",
      "\n",
      "[2, -3, 6, 9, 4]\n"
     ]
    },
    {
     "data": {
      "text/plain": [
       "-1296"
      ]
     },
     "execution_count": 14,
     "metadata": {},
     "output_type": "execute_result"
    }
   ],
   "source": [
    "print(np.linalg.det(A))\n",
    "print()\n",
    "print([x for x in np.diag(A)])\n",
    "\n",
    "from functools import reduce\n",
    "reduce(lambda x, y: x*y, [x for x in np.diag(A)])"
   ]
  },
  {
   "cell_type": "code",
   "execution_count": 15,
   "metadata": {},
   "outputs": [
    {
     "name": "stdout",
     "output_type": "stream",
     "text": [
      "[[ 0  1  5]\n",
      " [ 3 -6  9]\n",
      " [ 2  6  1]]\n"
     ]
    },
    {
     "data": {
      "text/plain": [
       "165.00000000000009"
      ]
     },
     "execution_count": 15,
     "metadata": {},
     "output_type": "execute_result"
    }
   ],
   "source": [
    "A = np.matrix('0 1 5;3 -6 9;2 6 1')\n",
    "print(A)\n",
    "np.linalg.det(A)"
   ]
  },
  {
   "cell_type": "markdown",
   "metadata": {},
   "source": [
    "### 두행렬 A, B 가 n 차의 정사각행렬일 때 |AB| = |A||B| 이다."
   ]
  },
  {
   "cell_type": "code",
   "execution_count": 16,
   "metadata": {},
   "outputs": [
    {
     "name": "stdout",
     "output_type": "stream",
     "text": [
      "[[1 2]\n",
      " [3 4]] \n",
      " [[ 2 -1]\n",
      " [ 1  2]]\n",
      "-10.000000000000002\n",
      "-10.000000000000004\n"
     ]
    }
   ],
   "source": [
    "A = np.array([[1,2], [3,4]])\n",
    "B = np.array([[2,-1], [1,2]])\n",
    "print(A,'\\n', B)\n",
    "print(np.linalg.det(np.matmul(A, B)))\n",
    "print(np.linalg.det(A) * np.linalg.det(B))"
   ]
  },
  {
   "cell_type": "markdown",
   "metadata": {},
   "source": [
    "### 행렬 A 가 가역이면 |A|$\\neq$0 이고, $|A^{-1}|$= $\\frac{1}{|A|}$ 이 성립한다."
   ]
  },
  {
   "cell_type": "code",
   "execution_count": 17,
   "metadata": {},
   "outputs": [
    {
     "name": "stdout",
     "output_type": "stream",
     "text": [
      "[[1 2]\n",
      " [3 4]]\n"
     ]
    },
    {
     "data": {
      "text/plain": [
       "array([[-2. ,  1. ],\n",
       "       [ 1.5, -0.5]])"
      ]
     },
     "execution_count": 17,
     "metadata": {},
     "output_type": "execute_result"
    }
   ],
   "source": [
    "A = np.array([[1,2], [3,4]])\n",
    "print(A)\n",
    "np.linalg.inv(A)"
   ]
  },
  {
   "cell_type": "code",
   "execution_count": 18,
   "metadata": {},
   "outputs": [
    {
     "name": "stdout",
     "output_type": "stream",
     "text": [
      "-0.4999999999999999\n"
     ]
    },
    {
     "data": {
      "text/plain": [
       "-0.5000000000000001"
      ]
     },
     "execution_count": 18,
     "metadata": {},
     "output_type": "execute_result"
    }
   ],
   "source": [
    "print(1 / np.linalg.det(A))\n",
    "np.linalg.det(np.linalg.inv(A))"
   ]
  },
  {
   "cell_type": "markdown",
   "metadata": {},
   "source": [
    "### 부분행렬"
   ]
  },
  {
   "cell_type": "code",
   "execution_count": 19,
   "metadata": {},
   "outputs": [
    {
     "name": "stdout",
     "output_type": "stream",
     "text": [
      "[[ 3  1 -4]\n",
      " [ 2  5  6]\n",
      " [ 1  4  8]]\n"
     ]
    }
   ],
   "source": [
    "x = np.array([[3,1,-4],[2,5,6],[1,4,8]] , dtype = 'int')\n",
    "print(x)\n",
    "\n",
    "# 부분행렬\n",
    "def partialMatrix(arr, row, col):\n",
    "    row -= 1\n",
    "    col -= 1\n",
    "    adjointArr = np.zeros((arr.shape[0]-1, arr.shape[1]-1))\n",
    "    r, c = 0, 0\n",
    "    for i in range(len(arr)):\n",
    "        if i != row:\n",
    "            for j in range(len(arr)):\n",
    "                if j != col:\n",
    "                    adjointArr[r][c] = arr[i][j]\n",
    "                    c += 1\n",
    "            r += 1\n",
    "            c = 0   \n",
    "    return adjointArr"
   ]
  },
  {
   "cell_type": "code",
   "execution_count": 20,
   "metadata": {},
   "outputs": [
    {
     "data": {
      "text/plain": [
       "array([[2., 6.],\n",
       "       [1., 8.]])"
      ]
     },
     "execution_count": 20,
     "metadata": {},
     "output_type": "execute_result"
    }
   ],
   "source": [
    "partialMatrix(x, 1, 2)"
   ]
  },
  {
   "cell_type": "code",
   "execution_count": 21,
   "metadata": {},
   "outputs": [
    {
     "data": {
      "text/plain": [
       "array([[5., 6.],\n",
       "       [4., 8.]])"
      ]
     },
     "execution_count": 21,
     "metadata": {},
     "output_type": "execute_result"
    }
   ],
   "source": [
    "partialMatrix(x, 1,1)"
   ]
  },
  {
   "cell_type": "markdown",
   "metadata": {},
   "source": [
    "### 소행렬식 / 여인자\n"
   ]
  },
  {
   "cell_type": "code",
   "execution_count": 22,
   "metadata": {},
   "outputs": [
    {
     "data": {
      "text/plain": [
       "15.999999999999998"
      ]
     },
     "execution_count": 22,
     "metadata": {},
     "output_type": "execute_result"
    }
   ],
   "source": [
    "# 소행렬식\n",
    "M11 = np.linalg.det(partialMatrix(x, 1, 1))\n",
    "M11"
   ]
  },
  {
   "cell_type": "code",
   "execution_count": 23,
   "metadata": {},
   "outputs": [
    {
     "data": {
      "text/plain": [
       "15.999999999999998"
      ]
     },
     "execution_count": 23,
     "metadata": {},
     "output_type": "execute_result"
    }
   ],
   "source": [
    "# 여인자\n",
    "A11 = (-1) ** (1+1) * M11\n",
    "A11"
   ]
  },
  {
   "cell_type": "code",
   "execution_count": 24,
   "metadata": {},
   "outputs": [],
   "source": [
    "def cofactor(partial, row, col):\n",
    "    return (-1) ** (row + col) * np.linalg.det(partial)"
   ]
  },
  {
   "cell_type": "code",
   "execution_count": 25,
   "metadata": {},
   "outputs": [
    {
     "data": {
      "text/plain": [
       "15.999999999999998"
      ]
     },
     "execution_count": 25,
     "metadata": {},
     "output_type": "execute_result"
    }
   ],
   "source": [
    "cofactor(partialMatrix(x, 1, 1), 1, 1)"
   ]
  },
  {
   "cell_type": "code",
   "execution_count": 26,
   "metadata": {},
   "outputs": [
    {
     "data": {
      "text/plain": [
       "-9.999999999999998"
      ]
     },
     "execution_count": 26,
     "metadata": {},
     "output_type": "execute_result"
    }
   ],
   "source": [
    "cofactor(partialMatrix(x, 1, 2), 1, 2)"
   ]
  },
  {
   "cell_type": "markdown",
   "metadata": {},
   "source": [
    "### 수반행렬(adjoint matrix, adjugate matrix)"
   ]
  },
  {
   "cell_type": "code",
   "execution_count": 27,
   "metadata": {},
   "outputs": [],
   "source": [
    "import numpy as np\n",
    "x = np.array([[3,-2,1],[5,6,2],[1,0,-3]])\n",
    "\n",
    "def adjoint_maxtix(x):\n",
    "    n = x.shape[0]  \n",
    "    c = np.array([[i for i in range(n)] for j in range(n)], dtype='float32')  # 수반행렬\n",
    "    for i in range(n):\n",
    "        for j in range(n):\n",
    "            c[i][j] = cofactor(partialMatrix(x, i+1, j+1), i+1, j+1)\n",
    "    return c.T"
   ]
  },
  {
   "cell_type": "code",
   "execution_count": 28,
   "metadata": {},
   "outputs": [
    {
     "data": {
      "text/plain": [
       "array([[ 3, -2,  1],\n",
       "       [ 5,  6,  2],\n",
       "       [ 1,  0, -3]])"
      ]
     },
     "execution_count": 28,
     "metadata": {},
     "output_type": "execute_result"
    }
   ],
   "source": [
    "x"
   ]
  },
  {
   "cell_type": "code",
   "execution_count": 29,
   "metadata": {},
   "outputs": [
    {
     "data": {
      "text/plain": [
       "array([[ 6.,  2.],\n",
       "       [ 0., -3.]])"
      ]
     },
     "execution_count": 29,
     "metadata": {},
     "output_type": "execute_result"
    }
   ],
   "source": [
    "partialMatrix(x, 1, 1)"
   ]
  },
  {
   "cell_type": "code",
   "execution_count": 30,
   "metadata": {},
   "outputs": [
    {
     "data": {
      "text/plain": [
       "-17.999999999999996"
      ]
     },
     "execution_count": 30,
     "metadata": {},
     "output_type": "execute_result"
    }
   ],
   "source": [
    "cofactor(partialMatrix(x, 1, 1), 1, 1)"
   ]
  },
  {
   "cell_type": "code",
   "execution_count": 31,
   "metadata": {},
   "outputs": [
    {
     "data": {
      "text/plain": [
       "array([[-18.,  -6., -10.],\n",
       "       [ 17., -10.,  -1.],\n",
       "       [ -6.,  -2.,  28.]], dtype=float32)"
      ]
     },
     "execution_count": 31,
     "metadata": {},
     "output_type": "execute_result"
    }
   ],
   "source": [
    "adjoint_maxtix(x)"
   ]
  },
  {
   "cell_type": "code",
   "execution_count": 32,
   "metadata": {},
   "outputs": [
    {
     "data": {
      "text/plain": [
       "array([[ 3,  5, -2,  6],\n",
       "       [ 1,  2, -1,  1],\n",
       "       [ 2,  4,  1,  5],\n",
       "       [ 3,  7,  5,  3]])"
      ]
     },
     "execution_count": 32,
     "metadata": {},
     "output_type": "execute_result"
    }
   ],
   "source": [
    "A = np.array([[3,5,-2,6], [1,2,-1,1], [2,4,1,5], [3,7,5,3]])\n",
    "A"
   ]
  },
  {
   "cell_type": "code",
   "execution_count": 33,
   "metadata": {},
   "outputs": [
    {
     "data": {
      "text/plain": [
       "array([[-5.4000000e+01,  7.8000000e+01,  6.0000000e+01, -1.8000000e+01],\n",
       "       [ 2.4000000e+01, -4.2000000e+01, -2.4000000e+01,  6.0000000e+00],\n",
       "       [-3.0000000e+00,  1.2000000e+01,  3.0000000e+00, -3.0000000e+00],\n",
       "       [ 3.0000000e+00,  5.6621374e-15, -9.0000000e+00,  3.0000000e+00]],\n",
       "      dtype=float32)"
      ]
     },
     "execution_count": 33,
     "metadata": {},
     "output_type": "execute_result"
    }
   ],
   "source": [
    "adjoint_maxtix(A)"
   ]
  },
  {
   "cell_type": "code",
   "execution_count": 34,
   "metadata": {},
   "outputs": [
    {
     "data": {
      "text/plain": [
       "-18.000000000000014"
      ]
     },
     "execution_count": 34,
     "metadata": {},
     "output_type": "execute_result"
    }
   ],
   "source": [
    "np.linalg.det(A)"
   ]
  },
  {
   "cell_type": "code",
   "execution_count": 35,
   "metadata": {},
   "outputs": [
    {
     "data": {
      "text/plain": [
       "array([[-18.,  -0.,  -0.,  -0.],\n",
       "       [ -0., -18.,  -0.,  -0.],\n",
       "       [ -0.,  -0., -18.,  -0.],\n",
       "       [ -0.,  -0.,  -0., -18.]])"
      ]
     },
     "execution_count": 35,
     "metadata": {},
     "output_type": "execute_result"
    }
   ],
   "source": [
    "n = 4\n",
    "np.linalg.det(A) * np.eye(n,n)"
   ]
  },
  {
   "cell_type": "code",
   "execution_count": 36,
   "metadata": {},
   "outputs": [
    {
     "data": {
      "text/plain": [
       "array([[ 3, -2,  1],\n",
       "       [ 5,  6,  2],\n",
       "       [ 1,  0, -3]])"
      ]
     },
     "execution_count": 36,
     "metadata": {},
     "output_type": "execute_result"
    }
   ],
   "source": [
    "A = np.array([[3,-2,1], [5,6,2], [1,0,-3]])\n",
    "A"
   ]
  },
  {
   "cell_type": "code",
   "execution_count": 37,
   "metadata": {},
   "outputs": [
    {
     "data": {
      "text/plain": [
       "-94.00000000000007"
      ]
     },
     "execution_count": 37,
     "metadata": {},
     "output_type": "execute_result"
    }
   ],
   "source": [
    "np.linalg.det(A)"
   ]
  },
  {
   "cell_type": "code",
   "execution_count": 38,
   "metadata": {},
   "outputs": [
    {
     "data": {
      "text/plain": [
       "array([[-94.,   0.,   0.],\n",
       "       [  0., -94.,   0.],\n",
       "       [  0.,   0., -94.]])"
      ]
     },
     "execution_count": 38,
     "metadata": {},
     "output_type": "execute_result"
    }
   ],
   "source": [
    "A.dot(adjoint_maxtix(A))"
   ]
  },
  {
   "cell_type": "code",
   "execution_count": 39,
   "metadata": {},
   "outputs": [],
   "source": [
    "A = np.array([[ 3,  5, -2,  6],\n",
    "        [ 1,  2, -1,  1],\n",
    "        [ 2,  4,  1,  5],\n",
    "        [ 3,  7,  5,  3]])"
   ]
  },
  {
   "cell_type": "code",
   "execution_count": 40,
   "metadata": {},
   "outputs": [
    {
     "data": {
      "text/plain": [
       "-18.000000000000014"
      ]
     },
     "execution_count": 40,
     "metadata": {},
     "output_type": "execute_result"
    }
   ],
   "source": [
    "np.linalg.det(A)"
   ]
  },
  {
   "cell_type": "markdown",
   "metadata": {},
   "source": [
    "### 크래머 공식\n",
    "\n",
    "<img src=\"cramer-n.jpg\" width=\"500\">"
   ]
  },
  {
   "cell_type": "markdown",
   "metadata": {},
   "source": [
    "다음 연립방정식을 풀어라.  \n",
    "$-2x_1 + 3x_2 - x_3 = 1$  \n",
    "$x_1 + 2x_2 - x_3 = 4$  \n",
    "$-2x_1 - x_2 + x_3 = -3$"
   ]
  },
  {
   "cell_type": "code",
   "execution_count": 41,
   "metadata": {},
   "outputs": [
    {
     "name": "stdout",
     "output_type": "stream",
     "text": [
      "[[-2  3 -1]\n",
      " [ 1  2 -1]\n",
      " [-2 -1  1]]\n",
      "[ 1  4 -3]\n"
     ]
    },
    {
     "data": {
      "text/plain": [
       "-1.9999999999999998"
      ]
     },
     "execution_count": 41,
     "metadata": {},
     "output_type": "execute_result"
    }
   ],
   "source": [
    "A = np.array([[-2, 3, -1], [1, 2, -1], [-2, -1, 1]])\n",
    "b = np.array([1,4,-3])\n",
    "print(A)\n",
    "print(b)\n",
    "\n",
    "detA = np.linalg.det(A)\n",
    "detA"
   ]
  },
  {
   "cell_type": "code",
   "execution_count": 44,
   "metadata": {},
   "outputs": [
    {
     "name": "stdout",
     "output_type": "stream",
     "text": [
      "[[ 1  3 -1]\n",
      " [ 4  2 -1]\n",
      " [-3 -1  1]]\n",
      "\n",
      "[[-2  1 -1]\n",
      " [ 1  4 -1]\n",
      " [-2 -3  1]]\n",
      "\n",
      "[[-2  3  1]\n",
      " [ 1  2  4]\n",
      " [-2 -1 -3]]\n"
     ]
    }
   ],
   "source": [
    "A1 = A.copy()\n",
    "A2 = A.copy()\n",
    "A3 = A.copy()\n",
    "\n",
    "A1[:, 0] = b  # 첫번째 column 을 b 로 바꿈\n",
    "A2[:, 1] = b  # 두번째 column 을 b 로 바꿈\n",
    "A3[:, 2] = b  # 세번째 column 을 b 로 바꿈\n",
    "\n",
    "print(A1)\n",
    "print()\n",
    "print(A2)\n",
    "print()\n",
    "print(A3)"
   ]
  },
  {
   "cell_type": "code",
   "execution_count": 45,
   "metadata": {},
   "outputs": [
    {
     "name": "stdout",
     "output_type": "stream",
     "text": [
      "x1 2.000000000000001\n",
      "x2 3.0000000000000018\n",
      "x3 3.9999999999999996\n"
     ]
    }
   ],
   "source": [
    "print('x1', np.linalg.det(A1) / np.linalg.det(A))\n",
    "print('x2', np.linalg.det(A2) / np.linalg.det(A))\n",
    "print('x3', np.linalg.det(A3) / np.linalg.det(A))"
   ]
  },
  {
   "cell_type": "markdown",
   "metadata": {},
   "source": [
    "3x - 3y -2z = 3  \n",
    "-x - 4y +2z = 2  \n",
    "5x + 4y + z = 1"
   ]
  },
  {
   "cell_type": "code",
   "execution_count": 46,
   "metadata": {},
   "outputs": [
    {
     "name": "stdout",
     "output_type": "stream",
     "text": [
      "[[ 3 -3 -2]\n",
      " [-1 -4  2]\n",
      " [ 5  4  1]]\n",
      "[3, 2, 1]\n"
     ]
    }
   ],
   "source": [
    "A = np.array([[3, -3, -2], [-1, -4, 2], [5, 4, 1]])\n",
    "b = [3,2,1]\n",
    "\n",
    "print(A)\n",
    "print(b)\n",
    "\n",
    "A1 = A.copy()\n",
    "A2 = A.copy()\n",
    "A3 = A.copy()\n",
    "\n",
    "A1[:, 0] = b\n",
    "A2[:, 1] = b\n",
    "A3[:, 2] = b"
   ]
  },
  {
   "cell_type": "code",
   "execution_count": 48,
   "metadata": {},
   "outputs": [
    {
     "name": "stdout",
     "output_type": "stream",
     "text": [
      "x =  0.5940594059405937\n",
      "y =  -0.544554455445544\n",
      "z =  0.20792079207920797\n"
     ]
    }
   ],
   "source": [
    "print('x = ', np.linalg.det(A1) / np.linalg.det(A))\n",
    "print('y = ', np.linalg.det(A2) / np.linalg.det(A))\n",
    "print('z = ', np.linalg.det(A3) / np.linalg.det(A))"
   ]
  },
  {
   "cell_type": "markdown",
   "metadata": {},
   "source": [
    "### 평행사변형의 면적 = vector 2 개의 determinant"
   ]
  },
  {
   "cell_type": "markdown",
   "metadata": {},
   "source": [
    "### 평행육면체의 부피 = vector 3 개의 determinant"
   ]
  },
  {
   "cell_type": "code",
   "execution_count": 49,
   "metadata": {},
   "outputs": [
    {
     "name": "stdout",
     "output_type": "stream",
     "text": [
      "[[ 1  0 -1]\n",
      " [ 1  2  2]\n",
      " [ 2  1  2]]\n",
      "\n",
      "4.999999999999999\n"
     ]
    }
   ],
   "source": [
    "c1 = np.array([1,1,2])\n",
    "c2 = np.array([0,2,1])\n",
    "c3 = np.array([-1,2,2])\n",
    "\n",
    "A = np.column_stack([c1, c2, c3])\n",
    "print(A)\n",
    "print()\n",
    "print(np.linalg.det(A))"
   ]
  },
  {
   "cell_type": "markdown",
   "metadata": {},
   "source": [
    "### 고유값과 고유벡터\n",
    "\n",
    "\n",
    "w, v = np.linalg.eig(A)  \n",
    "w : eigenvalue  \n",
    "v : eigenvector    \n",
    "The normalized (unit “length”) eigenvectors, such that the column v[:,i] is the eigenvector corresponding to the eigenvalue w[i]."
   ]
  },
  {
   "cell_type": "code",
   "execution_count": 59,
   "metadata": {},
   "outputs": [
    {
     "name": "stdout",
     "output_type": "stream",
     "text": [
      "[[ 5 -6]\n",
      " [ 2 -2]]\n",
      "\n",
      "[2. 1.]\n",
      "when w =  2.0000000000000018\n",
      "[[0.89442719]\n",
      " [0.4472136 ]]\n",
      "when w =  0.9999999999999987\n",
      "[[0.83205029]\n",
      " [0.5547002 ]]\n"
     ]
    }
   ],
   "source": [
    "A = np.matrix('5 -6;2 -2')\n",
    "print(A)  \n",
    "print()\n",
    "w, v = np.linalg.eig(A)\n",
    "print(w)\n",
    "print(\"when w = \", w[0])\n",
    "print(v[:, 0])\n",
    "print(\"when w = \", w[1])\n",
    "print(v[:, 1])"
   ]
  },
  {
   "cell_type": "code",
   "execution_count": 63,
   "metadata": {},
   "outputs": [
    {
     "name": "stdout",
     "output_type": "stream",
     "text": [
      "[[ 1 -3]\n",
      " [-3  1]]\n",
      "\n",
      "[ 4. -2.]\n",
      "when w =  3.9999999999999996\n",
      "[ 0.70710678 -0.70710678]\n",
      "when w =  -2.000000000000001\n",
      "[0.70710678 0.70710678]\n"
     ]
    }
   ],
   "source": [
    "A = np.array([[1, -3], [-3, 1]])\n",
    "print(A)\n",
    "print()\n",
    "w, v = np.linalg.eig(A)\n",
    "print(w)\n",
    "print(\"when w = \", w[0])\n",
    "print(v[:, 0])\n",
    "print(\"when w = \", w[1])\n",
    "print(v[:, 1])"
   ]
  },
  {
   "cell_type": "code",
   "execution_count": 65,
   "metadata": {},
   "outputs": [
    {
     "name": "stdout",
     "output_type": "stream",
     "text": [
      "[[ 1  2  2]\n",
      " [ 1  2 -1]\n",
      " [ 3 -3  0]]\n",
      "\n",
      "[ 3. -3.  3.]\n",
      "when w =  3.0\n",
      "[0.78446454 0.19611614 0.58834841]\n",
      "when w =  -3.0\n",
      "[ 0.53452248 -0.26726124 -0.80178373]\n",
      "when w =  3.0000000000000004\n",
      "[ 0.06615243 -0.67170594  0.73785838]\n"
     ]
    }
   ],
   "source": [
    "A = np.array([[1,2,2], [1,2,-1], [3,-3,0]])\n",
    "print(A)\n",
    "print()\n",
    "w, v = np.linalg.eig(A)\n",
    "print(w)\n",
    "print(\"when w = \", w[0])\n",
    "print(v[:, 0])\n",
    "print(\"when w = \", w[1])\n",
    "print(v[:, 1])\n",
    "print(\"when w = \", w[2])\n",
    "print(v[:, 2])"
   ]
  },
  {
   "cell_type": "code",
   "execution_count": 67,
   "metadata": {},
   "outputs": [
    {
     "name": "stdout",
     "output_type": "stream",
     "text": [
      "[[ 2  0  0]\n",
      " [-1 -1  0]\n",
      " [ 0  1  3]]\n",
      "\n",
      "[ 3. -1.  2.]\n",
      "when w =  3.0\n",
      "[0. 0. 1.]\n",
      "when w =  -1.0\n",
      "[ 0.          0.9701425  -0.24253563]\n",
      "when w =  2.0\n",
      "[ 0.90453403 -0.30151134  0.30151134]\n"
     ]
    }
   ],
   "source": [
    "# 예제 6 - 삼각행렬의 경우는 주대각선 성분이 고유값이다.\n",
    "A = np.array([[2,0,0], [-1,-1,0], [0,1,3]])\n",
    "print(A)\n",
    "print()\n",
    "w, v = np.linalg.eig(A)\n",
    "print(w)\n",
    "print(\"when w = \", w[0])\n",
    "print(v[:, 0])\n",
    "print(\"when w = \", w[1])\n",
    "print(v[:, 1])\n",
    "print(\"when w = \", w[2])\n",
    "print(v[:, 2])"
   ]
  },
  {
   "cell_type": "code",
   "execution_count": 68,
   "metadata": {},
   "outputs": [
    {
     "data": {
      "text/plain": [
       "-15.000000000000007"
      ]
     },
     "execution_count": 68,
     "metadata": {},
     "output_type": "execute_result"
    }
   ],
   "source": [
    "np.linalg.det(np.array([[-3,5,1], [1,0,-2], [0,3,0]]))"
   ]
  },
  {
   "cell_type": "code",
   "execution_count": 69,
   "metadata": {},
   "outputs": [
    {
     "data": {
      "text/plain": [
       "-0.9999999999999998"
      ]
     },
     "execution_count": 69,
     "metadata": {},
     "output_type": "execute_result"
    }
   ],
   "source": [
    "np.linalg.det(np.array([[1,0,1,0], [2,1,0,-1], [4,0,1,1], [3,0,1,1]]))"
   ]
  },
  {
   "cell_type": "code",
   "execution_count": 70,
   "metadata": {},
   "outputs": [
    {
     "data": {
      "text/plain": [
       "99.99999999999987"
      ]
     },
     "execution_count": 70,
     "metadata": {},
     "output_type": "execute_result"
    }
   ],
   "source": [
    "A = np.array([[1,0,2], [0,5,0], [3,0,4]])\n",
    "B = np.array([[1,2,0], [3,4,0],[0,0,5]])\n",
    "np.linalg.det(A.dot(B))"
   ]
  },
  {
   "cell_type": "code",
   "execution_count": null,
   "metadata": {},
   "outputs": [],
   "source": []
  }
 ],
 "metadata": {
  "kernelspec": {
   "display_name": "Python 3",
   "language": "python",
   "name": "python3"
  },
  "language_info": {
   "codemirror_mode": {
    "name": "ipython",
    "version": 3
   },
   "file_extension": ".py",
   "mimetype": "text/x-python",
   "name": "python",
   "nbconvert_exporter": "python",
   "pygments_lexer": "ipython3",
   "version": "3.7.2"
  }
 },
 "nbformat": 4,
 "nbformat_minor": 2
}
