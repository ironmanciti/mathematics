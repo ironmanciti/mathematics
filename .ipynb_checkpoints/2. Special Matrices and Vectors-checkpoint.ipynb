{
 "cells": [
  {
   "cell_type": "markdown",
   "metadata": {},
   "source": [
    "# 2. Machine Learning 에 많이 사용되는 특수한 형태의 matrix 와 vector\n",
    "- 대각행렬(diagonal matrix)  \n",
    "- 대칭행렬(symmetric matrix)\n",
    "- 단위벡터(unit vecotr)\n",
    "- 정규화(normalization)\n",
    "- 직교벡터(orthogonal vector)"
   ]
  },
  {
   "cell_type": "markdown",
   "metadata": {},
   "source": [
    "## 대각행렬(diagonal matrix) \n",
    "다음 조건을 만족시키는 행렬:\n",
    "$$ D_{i, j} = 0 \\text{ for all } i \\neq j $$\n",
    "\n",
    "대각행렬의 계산은 computationally efficient:  \n",
    "$\\begin{bmatrix}\n",
    "    1 & 0 & 0 \\\\\n",
    "    0 & 2 & 0 \\\\\n",
    "    0 & 0 & 3\n",
    " \\end{bmatrix}$ *\n",
    "$\\begin{bmatrix}\n",
    "    1 & 1 & 1 \\\\\n",
    "    1 & 1 & 1 \\\\\n",
    "    1 & 1 & 1\n",
    " \\end{bmatrix}$ = \n",
    " $\\begin{bmatrix}\n",
    "     1(1) & 1(1) & 1(1) \\\\\n",
    "     2(1) & 2(1) & 2(1) \\\\\n",
    "     3(1) & 3(1) & 3(1)\n",
    "   \\end{bmatrix}$"
   ]
  },
  {
   "cell_type": "markdown",
   "metadata": {},
   "source": [
    "## 대칭행렬(symmetric matrix)\n",
    "다음 조건을 만족하는 행렬:  \n",
    "$$ A = A^T $$  \n",
    "ex) $$\\begin{bmatrix}\n",
    "        1 & 2 & 3 \\\\\n",
    "        2 & 3 & 4 \\\\\n",
    "        3 & 4 & 5 \\\\\n",
    "     \\end{bmatrix}$$"
   ]
  },
  {
   "cell_type": "markdown",
   "metadata": {},
   "source": [
    "## 단위벡터(unit vecotr)\n",
    "단위 norm 인 vector :\n",
    "$$||x||_2 = 1$$\n",
    "단위 벡터는 벡터 정규화 (vector normalization) 을 통해 얻어진다. 벡터 정류화란 vector 를 vector 를 magnitude (크기) 로 나누어 주는 것이다.\n",
    "$$\\frac{x}{||x||_2} = \\text{ unit vector }$$\n",
    "ex) $$x = [1, 1, 1, 1]$$\n",
    "$$\\frac{x}{\\sqrt{(1^2 + 1^2 + 1^2 + 1^2)}} = \\frac{x}{\\sqrt{4}} = [\\text{1/2 1/2 1/2 1/2}]$$"
   ]
  },
  {
   "cell_type": "markdown",
   "metadata": {},
   "source": [
    "## 직교벡터(orthogonal vector)\n",
    "서로 90도를 이루는 크기가 0 이 아닌 두 vector. 두 벡터가 단위 벡터인 경우 orthonormal 이라고 부른다."
   ]
  },
  {
   "cell_type": "markdown",
   "metadata": {},
   "source": [
    "## Eigenvalue(고유값) 와 Eigenvector(고유벡터)\n",
    "\n",
    "- 고유값 분해 (Eigendecomposition)  \n",
    "\n",
    "    Breaking mathematical objects into their constituent parts !  \n",
    "    \n",
    "    We can decompose matrices in ways that reveals information about their functional properties that is not immediately obvious from the representation of the matrix as an array of elements.\n",
    "    \n",
    "    $$ \\text{Matrix} ==> \\begin{cases}\n",
    "                    \\text{Eigenvalues} \\\\\n",
    "                    \\text{Eigenvectors}\n",
    "                   \\end{cases}$$\n",
    "                   \n",
    "- Eigenvector of square matrix A is a non-zero vector v such that multiplication by A alters only the scale of v  \n",
    "$$\\text{Av} = \\lambda \\text{A}$$\n",
    "$$ \\text{v : eigenvector}$$\n",
    "$$ \\lambda \\text{: a scaler, the eigenvalue corresponding to v}$$ \n",
    "\n",
    "<img src=\"eigen.png\" width=\"500\">"
   ]
  },
  {
   "cell_type": "markdown",
   "metadata": {},
   "source": [
    "## 고유값분해(Eigendecomposition)\n",
    "If a matrix A has n linearly independent eigenvectors ...  \n",
    "\n",
    "we can form a matrix V with one eigenvector per column,  \n",
    "and a vector $\\lambda$ of all the eigenvalues.\n",
    "\n",
    "The eigendecomposition of A is then given by:  \n",
    "$$A = Vdiag(\\lambda)V^{-1}$$\n",
    "\n",
    "$$diag : \\text{Diagonal Matrix}$$\n",
    "$$V^{-1} : \\text{Inverse Matrix}$$\n",
    "\n",
    "### The Inverse Matrix (역행렬)\n",
    "\n",
    "$$AA^{-1} = A^{-1}A = I$$\n",
    "$$\\text{where $I$ is the identity matrix}$$\n",
    "\n",
    "### Indentity Matrix (단위행렬, 항등행렬)\n",
    "\n",
    "- 단위 혹은 항등행렬은:  \n",
    "    대각행렬(2X2, 3X3, 등)이며, 대각선에 1, 기타 위치에는 0 으로 채워진 행렬이다.$\\text{  }$\n",
    "$\\begin{bmatrix}\n",
    "    1 & 0 & 0 \\\\\n",
    "    0 & 1 & 0 \\\\\n",
    "    0 & 0 & 1\n",
    "    \\end{bmatrix}$\n",
    "    \n",
    "역행렬은 것은 정수 (integer) 의 역수 (reciprocal)와 유사함.\n",
    "\n",
    "### 고유값분해 (Eigendecomposition) 의 특성\n",
    "\n",
    "- 모든 행렬이 eigenvalue 와 eigenvector 로 나뉠 수 있는 것은 아니다.\n",
    "- A matrix is singular (the inverse doesn't exist) if any of the eigenvalues are zero.\n",
    "\n",
    "### 고유값분해의 machine learning 에서의 용도\n",
    "- PCA (Principal Component Analysis) 에 사용\n",
    "\n",
    "PCA is a statistical procedure that is used to convert a set of observations of possibly correlated values into a set of values of linearly uncorrelated values called principal component.\n",
    "\n",
    "즉, PCA 는 data 를 summarize 하거나 compress 하는 방법이다."
   ]
  },
  {
   "cell_type": "code",
   "execution_count": 1,
   "metadata": {},
   "outputs": [],
   "source": [
    "import numpy as np\n",
    "import sys"
   ]
  },
  {
   "cell_type": "code",
   "execution_count": 6,
   "metadata": {},
   "outputs": [
    {
     "name": "stdout",
     "output_type": "stream",
     "text": [
      "3.6.7 |Anaconda, Inc.| (default, Oct 23 2018, 14:01:38) \n",
      "[GCC 4.2.1 Compatible Clang 4.0.1 (tags/RELEASE_401/final)]\n",
      "\n",
      "1.15.0\n"
     ]
    }
   ],
   "source": [
    "print(sys.version)\n",
    "print()\n",
    "print(np.__version__)"
   ]
  },
  {
   "cell_type": "code",
   "execution_count": 7,
   "metadata": {},
   "outputs": [],
   "source": [
    "from numpy import linalg"
   ]
  },
  {
   "cell_type": "code",
   "execution_count": 8,
   "metadata": {},
   "outputs": [
    {
     "data": {
      "text/plain": [
       "array([-3, -2, -1,  0,  1,  2,  3,  4,  5])"
      ]
     },
     "execution_count": 8,
     "metadata": {},
     "output_type": "execute_result"
    }
   ],
   "source": [
    "# define an array\n",
    "A = np.arange(9) - 3\n",
    "A"
   ]
  },
  {
   "cell_type": "code",
   "execution_count": 9,
   "metadata": {},
   "outputs": [
    {
     "data": {
      "text/plain": [
       "array([[-3, -2, -1],\n",
       "       [ 0,  1,  2],\n",
       "       [ 3,  4,  5]])"
      ]
     },
     "execution_count": 9,
     "metadata": {},
     "output_type": "execute_result"
    }
   ],
   "source": [
    "B = A.reshape((3,3))\n",
    "B"
   ]
  },
  {
   "cell_type": "code",
   "execution_count": 11,
   "metadata": {},
   "outputs": [
    {
     "name": "stdout",
     "output_type": "stream",
     "text": [
      "8.306623862918075\n",
      "8.306623862918075\n"
     ]
    }
   ],
   "source": [
    "# 유클리드 노름 (Euclidean norm) = L2 norm (default of numpy norm)\n",
    "print(np.linalg.norm(A))\n",
    "print(np.linalg.norm(B))"
   ]
  },
  {
   "cell_type": "code",
   "execution_count": 14,
   "metadata": {},
   "outputs": [
    {
     "data": {
      "text/plain": [
       "8.306623862918075"
      ]
     },
     "execution_count": 14,
     "metadata": {},
     "output_type": "execute_result"
    }
   ],
   "source": [
    "# Frobenious norm - L2 norm for a matrix (vector 에는 사용 못함)\n",
    "np.linalg.norm(B, 'fro')"
   ]
  },
  {
   "cell_type": "code",
   "execution_count": 19,
   "metadata": {},
   "outputs": [
    {
     "name": "stdout",
     "output_type": "stream",
     "text": [
      "5.0\n",
      "12.0\n"
     ]
    }
   ],
   "source": [
    "# the max norm (P = infinity)\n",
    "print(np.linalg.norm(A, np.inf))   # max(sum(abs(x), axis=1))\n",
    "print(np.linalg.norm(B, np.inf))   "
   ]
  },
  {
   "cell_type": "code",
   "execution_count": 26,
   "metadata": {},
   "outputs": [
    {
     "data": {
      "text/plain": [
       "array([-0.36115756, -0.24077171, -0.12038585,  0.        ,  0.12038585,\n",
       "        0.24077171,  0.36115756,  0.48154341,  0.60192927])"
      ]
     },
     "execution_count": 26,
     "metadata": {},
     "output_type": "execute_result"
    }
   ],
   "source": [
    "# vector normalization - normalization to produce a unit vector\n",
    "norm = np.linalg.norm(A)\n",
    "A_unit = A / norm        # unit vector\n",
    "A_unit"
   ]
  },
  {
   "cell_type": "code",
   "execution_count": 78,
   "metadata": {},
   "outputs": [
    {
     "data": {
      "text/plain": [
       "0.9999999999999999"
      ]
     },
     "execution_count": 78,
     "metadata": {},
     "output_type": "execute_result"
    }
   ],
   "source": [
    "# the magnitude of unit vector is equal to 1\n",
    "np.linalg.norm(A_unit)"
   ]
  },
  {
   "cell_type": "code",
   "execution_count": 79,
   "metadata": {},
   "outputs": [
    {
     "data": {
      "text/plain": [
       "array([[1, 0, 0],\n",
       "       [0, 2, 0],\n",
       "       [0, 0, 3]])"
      ]
     },
     "execution_count": 79,
     "metadata": {},
     "output_type": "execute_result"
    }
   ],
   "source": [
    "# find eigenvalues and eigenvector for a simple square matrix\n",
    "A = np.diag(np.arange(1,4))\n",
    "A"
   ]
  },
  {
   "cell_type": "markdown",
   "metadata": {},
   "source": [
    "- Eigenvector of square matrix A is a non-zero vector v such that multiplication by A alters only the scale of v  \n",
    "$$\\text{Av} = \\lambda \\text{A}$$\n",
    "$$ \\text{v : eigenvector}$$\n",
    "$$ \\lambda \\text{: a scaler, the eigenvalue corresponding to v}$$ "
   ]
  },
  {
   "cell_type": "code",
   "execution_count": 100,
   "metadata": {},
   "outputs": [
    {
     "name": "stdout",
     "output_type": "stream",
     "text": [
      "[1. 2. 3.]\n",
      "\n",
      "[[1. 0. 0.]\n",
      " [0. 1. 0.]\n",
      " [0. 0. 1.]]\n"
     ]
    }
   ],
   "source": [
    "# find eigenvalues and eigenvectors using numpy linalg.eig\n",
    "eigenvalues, eigenvectors = np.linalg.eig(A)\n",
    "print(eigenvalues)\n",
    "print()\n",
    "print(eigenvectors)   # each column is an eigenvector"
   ]
  },
  {
   "cell_type": "code",
   "execution_count": 81,
   "metadata": {},
   "outputs": [
    {
     "name": "stdout",
     "output_type": "stream",
     "text": [
      "eigenvalue 2.0\n",
      "eigenvector [0. 1. 0.]\n"
     ]
    }
   ],
   "source": [
    "# the eigenvalue w[i] corresponds to the eigenvector v[:, i] \n",
    "print('eigenvalue {}'.format(eigenvalues[1]))\n",
    "print('eigenvector {}'.format(eigenvectors[:, 1]))"
   ]
  },
  {
   "cell_type": "markdown",
   "metadata": {},
   "source": [
    "- The eigendecomposition of A is given by:  \n",
    "$$A = Vdiag(\\lambda)V^{-1}$$\n",
    "\n",
    "$$diag : \\text{Diagonal Matrix}$$\n",
    "$$V^{-1} : \\text{Inverse Matrix}$$\n"
   ]
  },
  {
   "cell_type": "code",
   "execution_count": 82,
   "metadata": {},
   "outputs": [
    {
     "data": {
      "text/plain": [
       "array([[1, 0, 0],\n",
       "       [0, 2, 0],\n",
       "       [0, 0, 3]])"
      ]
     },
     "execution_count": 82,
     "metadata": {},
     "output_type": "execute_result"
    }
   ],
   "source": [
    "# verify eigendecompisition\n",
    "matrix = np.matmul(np.diag(eigenvalues), np.linalg.inv(eigenvectors))\n",
    "output = np.matmul(eigenvectors, matrix).astype(np.int)\n",
    "output"
   ]
  },
  {
   "cell_type": "code",
   "execution_count": 83,
   "metadata": {},
   "outputs": [],
   "source": [
    "import matplotlib.pyplot as plt\n",
    "from mpl_toolkits.mplot3d import Axes3D\n",
    "%matplotlib inline"
   ]
  },
  {
   "cell_type": "code",
   "execution_count": 132,
   "metadata": {},
   "outputs": [
    {
     "data": {
      "image/png": "[encoded data removed]",
      "text/plain": [
       "<Figure size 1296x432 with 3 Axes>"
      ]
     },
     "metadata": {},
     "output_type": "display_data"
    }
   ],
   "source": [
    "# plot the eigenvectors\n",
    "origin = [0,0,0]\n",
    "\n",
    "fig = plt.figure(figsize=(18, 6))\n",
    "fig.suptitle('Effect of eigenvalues and eigenvectors')\n",
    "\n",
    "ax1 = fig.add_subplot(131, projection='3d')\n",
    "\n",
    "plt.quiver(origin, origin, origin, \n",
    "           eigenvectors[0,:], eigenvectors[1,:], eigenvectors[2,:], color='k')\n",
    "ax1.set_xlim([-3,3])\n",
    "ax1.set_ylim([-3,3])\n",
    "ax1.set_zlim([-3,3])\n",
    "ax1.set_xlabel('x axis')\n",
    "ax1.set_ylabel('y axis')\n",
    "ax1.set_zlabel('z axis')\n",
    "ax1.view_init(15, 30)\n",
    "ax1.set_title('Before multiplication')\n",
    "\n",
    "new_eigen = np.matmul(A, eigenvectors)\n",
    "\n",
    "ax2 = fig.add_subplot(132, projection='3d')\n",
    "\n",
    "plt.quiver(origin, origin, origin, \n",
    "           new_eigen[0,:], new_eigen[1,:], new_eigen[2,:], color='k')\n",
    "plt.plot((eigenvalues[0]*eigenvectors[0]),(eigenvalues[1]*eigenvectors[1]),(eigenvalues[2]*eigenvectors[2]), 'rx')\n",
    "\n",
    "ax2.set_xlim([-3,3])\n",
    "ax2.set_ylim([-3,3])\n",
    "ax2.set_zlim([-3,3])\n",
    "ax2.set_xlabel('x axis')\n",
    "ax2.set_ylabel('y axis')\n",
    "ax2.set_zlabel('z axis')\n",
    "ax2.view_init(15, 30)\n",
    "ax2.set_title('After multiplication')\n",
    "\n",
    "ax3 = fig.add_subplot(133)\n",
    "ax3.text(0, 0.5, r'$Av = \\lambda A - matrix * eigenvectors = eigenvalues * matrix$')\n",
    "ax3.set_axis_off()\n",
    "\n",
    "plt.show()"
   ]
  },
  {
   "cell_type": "code",
   "execution_count": null,
   "metadata": {},
   "outputs": [],
   "source": []
  }
 ],
 "metadata": {
  "kernelspec": {
   "display_name": "Python 3",
   "language": "python",
   "name": "python3"
  },
  "language_info": {
   "codemirror_mode": {
    "name": "ipython",
    "version": 3
   },
   "file_extension": ".py",
   "mimetype": "text/x-python",
   "name": "python",
   "nbconvert_exporter": "python",
   "pygments_lexer": "ipython3",
   "version": "3.6.7"
  }
 },
 "nbformat": 4,
 "nbformat_minor": 2
}
