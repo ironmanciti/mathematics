{
 "cells": [
  {
   "cell_type": "markdown",
   "metadata": {},
   "source": [
    "# 4. Mathematical Optimization\n",
    "\n",
    "<img src=\"optimization.png\" width=\"400\">  \n",
    "\n",
    "<img src=\"optimum1.png\" width=\"400\">  \n",
    "\n",
    "<img src=\"convex.png\" width=\"400\"> \n",
    "\n",
    "### 모든 machine learning algorithm 은 loss 를 최소화 하는 것이다.\n",
    "\n",
    "<img src=\"lossfunctions.png\" width=\"400\">  \n",
    "\n"
   ]
  },
  {
   "cell_type": "markdown",
   "metadata": {},
   "source": [
    "## derivative \n",
    "\n",
    "$y = x^2$  \n",
    "$y' = 2x$"
   ]
  },
  {
   "cell_type": "code",
   "execution_count": null,
   "metadata": {},
   "outputs": [],
   "source": []
  }
 ],
 "metadata": {
  "kernelspec": {
   "display_name": "Python 3",
   "language": "python",
   "name": "python3"
  },
  "language_info": {
   "codemirror_mode": {
    "name": "ipython",
    "version": 3
   },
   "file_extension": ".py",
   "mimetype": "text/x-python",
   "name": "python",
   "nbconvert_exporter": "python",
   "pygments_lexer": "ipython3",
   "version": "3.6.7"
  }
 },
 "nbformat": 4,
 "nbformat_minor": 2
}
