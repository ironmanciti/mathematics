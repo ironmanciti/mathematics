{
 "cells": [
  {
   "cell_type": "markdown",
   "metadata": {},
   "source": [
    "# Fitting the distribution of heights data\n",
    "## Instructions\n",
    "\n",
    "In this assessment you will write code to perform a steepest descent to fit a Gaussian model to the distribution of heights data that was first introduced in *Mathematics for Machine Learning: Linear Algebra*.\n",
    "\n",
    "The algorithm is the same as you encountered in *Gradient descent in a sandpit* but this time instead of descending a pre-defined function, we shall descend the $\\chi^2$ (chi squared) function which is both a function of the parameters that we are to optimise, but also the data that the model is to fit to.\n",
    "\n",
    "## Get started\n",
    "Run the cell below to load dependancies and generate the first figure in this worksheet.\n",
    "\n",
    "<img src=\"heightPlot.png\" width=\"400\">"
   ]
  },
  {
   "cell_type": "markdown",
   "metadata": {},
   "source": [
    "## Background\n",
    "If we have data for the heights of people in a population, it can be plotted as a histogram, i.e., a bar chart where each bar has a width representing a range of heights, and an area which is the probability of finding a person with a height in that range.\n",
    "We can look to model that data with a function, such as a Gaussian, which we can specify with two parameters, rather than holding all the data in the histogram.\n",
    "\n",
    "The Gaussian function is given as,\n",
    "$$f(\\mathbf{x};\\mu, \\sigma) = \\frac{1}{\\sigma\\sqrt{2\\pi}}\\exp\\left(-\\frac{(\\mathbf{x} - \\mu)^2}{2\\sigma^2}\\right)$$\n",
    "\n",
    "The figure above shows the data in orange, the model in magenta, and where they overlap in green.\n",
    "This particular model has not been fit well - there is not a strong overlap.\n",
    "\n",
    "Recall from the videos the definition of $\\chi^2$ as the squared difference of the data and the model, i.e $\\chi^2 = |\\mathbf{y} - f(\\mathbf{x};\\mu, \\sigma)|^2$. This is represented in the figure as the sum of the squares of the pink and orange bars.\n",
    "\n",
    "Don't forget that $\\mathbf{x}$ an $\\mathbf{y}$ are represented as vectors here, as these are lists of all of the data points, the |*abs-squared*|${}^2$ encodes squaring and summing of the residuals on each bar.\n",
    "\n",
    "To improve the fit, we will want to alter the parameters $\\mu$ and $\\sigma$, and ask how that changes the $\\chi^2$.\n",
    "That is, we will need to calculate the Jacobian,\n",
    "$$ \\mathbf{J} = \\left[ \\frac{\\partial ( \\chi^2 ) }{\\partial \\mu} , \\frac{\\partial ( \\chi^2 ) }{\\partial \\sigma} \\right]\\;. $$\n",
    "\n",
    "Let's look at the first term, $\\frac{\\partial ( \\chi^2 ) }{\\partial \\mu}$, using the multi-variate chain rule, this can be written as,\n",
    "$$ \\frac{\\partial ( \\chi^2 ) }{\\partial \\mu} = -2 (\\mathbf{y} - f(\\mathbf{x};\\mu, \\sigma)) \\cdot \\frac{\\partial f}{\\partial \\mu}(\\mathbf{x};\\mu, \\sigma)$$\n",
    "With a similar expression for $\\frac{\\partial ( \\chi^2 ) }{\\partial \\sigma}$; try and work out this expression for yourself.\n",
    "\n",
    "The Jacobians rely on the derivatives $\\frac{\\partial f}{\\partial \\mu}$ and $\\frac{\\partial f}{\\partial \\sigma}$.\n",
    "Write functions below for these."
   ]
  },
  {
   "cell_type": "code",
   "execution_count": 2,
   "metadata": {},
   "outputs": [],
   "source": [
    "# PACKAGE\n",
    "import matplotlib.pyplot as plt\n",
    "import numpy as np"
   ]
  },
  {
   "cell_type": "code",
   "execution_count": 6,
   "metadata": {},
   "outputs": [],
   "source": [
    "# This is the Gaussian function.\n",
    "def f (x,mu,sig) :\n",
    "    return np.exp(-(x-mu)**2/(2*sig**2)) / np.sqrt(2*np.pi) / sig\n",
    "\n",
    "# Next up, the derivative with respect to μ.\n",
    "# If you wish, you may want to express this as f(x, mu, sig) multiplied by chain rule terms.\n",
    "def dfdmu (x,mu,sig) :\n",
    "    return f(x, mu, sig) * ((x-mu)/np.square(sig))\n",
    "\n",
    "# Finally in this cell, the derivative with respect to σ.\n",
    "# === COMPLETE THIS FUNCTION ===\n",
    "def dfdsig (x,mu,sig) :\n",
    "    return f(x, mu, sig) * (-(1/sig)+(np.square(x-mu)/np.power(sig, 3)))"
   ]
  },
  {
   "cell_type": "markdown",
   "metadata": {},
   "source": [
    "Next recall that steepest descent shall move around in parameter space proportional to the negative of the Jacobian,\n",
    "i.e., $\\begin{bmatrix} \\delta\\mu \\\\ \\delta\\sigma \\end{bmatrix} \\propto -\\mathbf{J} $, with the constant of proportionality being the *aggression* of the algorithm.\n",
    "\n",
    "Modify the function below to include the $\\frac{\\partial ( \\chi^2 ) }{\\partial \\sigma}$ term of the Jacobian, the $\\frac{\\partial ( \\chi^2 ) }{\\partial \\mu}$ term has been included for you."
   ]
  },
  {
   "cell_type": "code",
   "execution_count": 10,
   "metadata": {},
   "outputs": [],
   "source": [
    "# Complete the expression for the Jacobian, the first term is done for you.\n",
    "# Implement the second.\n",
    "# === COMPLETE THIS FUNCTION ===\n",
    "def steepest_step (x, y, mu, sig, aggression) :\n",
    "    J = np.array([\n",
    "        -2*(y - f(x,mu,sig)) @ dfdmu(x,mu,sig),\n",
    "        -2*(y - f(x,mu,sig)) @ dfdsig(x,mu,sig),\n",
    "    ])\n",
    "    step = -J * aggression\n",
    "    return step"
   ]
  },
  {
   "cell_type": "code",
   "execution_count": 15,
   "metadata": {},
   "outputs": [],
   "source": [
    "# First get the heights data, ranges and frequencies\n",
    "\n",
    "x = np.array([  51.25,   53.75,   56.25,   58.75,   61.25,   63.75,   66.25,\n",
    "         68.75,   71.25,   73.75,   76.25,   78.75,   81.25,   83.75,\n",
    "         86.25,   88.75,   91.25,   93.75,   96.25,   98.75,  101.25,\n",
    "        103.75,  106.25,  108.75,  111.25,  113.75,  116.25,  118.75,\n",
    "        121.25,  123.75,  126.25,  128.75,  131.25,  133.75,  136.25,\n",
    "        138.75,  141.25,  143.75,  146.25,  148.75,  151.25,  153.75,\n",
    "        156.25,  158.75,  161.25,  163.75,  166.25,  168.75,  171.25,\n",
    "        173.75,  176.25,  178.75,  181.25,  183.75,  186.25,  188.75,\n",
    "        191.25,  193.75,  196.25,  198.75,  201.25,  203.75,  206.25,\n",
    "        208.75,  211.25,  213.75,  216.25,  218.75,  221.25,  223.75,\n",
    "        226.25,  228.75,  231.25,  233.75,  236.25,  238.75,  241.25,\n",
    "        243.75,  246.25,  248.75,  251.25,  253.75,  256.25,  258.75,\n",
    "        261.25,  263.75,  266.25,  268.75,  271.25,  273.75,  276.25,\n",
    "        278.75,  281.25,  283.75,  286.25,  288.75,  291.25,  293.75,\n",
    "        296.25,  298.75])\n",
    "\n",
    "y = np.array([ 0.        ,  0.        ,  0.        ,  0.        ,  0.        ,\n",
    "        0.        ,  0.        ,  0.        ,  0.        ,  0.        ,\n",
    "        0.        ,  0.        ,  0.        ,  0.        ,  0.        ,\n",
    "        0.        ,  0.        ,  0.        ,  0.        ,  0.        ,\n",
    "        0.        ,  0.        ,  0.        ,  0.        ,  0.        ,\n",
    "        0.        ,  0.        ,  0.        ,  0.        ,  0.        ,\n",
    "        0.        ,  0.        ,  0.        ,  0.        ,  0.        ,\n",
    "        0.        ,  0.        ,  0.        ,  0.        ,  0.        ,\n",
    "        0.        ,  0.        ,  0.        ,  0.        ,  0.01246231,\n",
    "        0.00522613,  0.00924623,  0.02572864,  0.02613065,  0.05065327,\n",
    "        0.05306533,  0.05105528,  0.04542714,  0.03658291,  0.04221106,\n",
    "        0.0201005 ,  0.00723618,  0.00723618,  0.00723618,  0.00040201,\n",
    "        0.        ,  0.        ,  0.        ,  0.        ,  0.        ,\n",
    "        0.        ,  0.        ,  0.        ,  0.        ,  0.        ,\n",
    "        0.        ,  0.        ,  0.        ,  0.        ,  0.        ,\n",
    "        0.        ,  0.        ,  0.        ,  0.        ,  0.        ,\n",
    "        0.        ,  0.        ,  0.        ,  0.        ,  0.        ,\n",
    "        0.        ,  0.        ,  0.        ,  0.        ,  0.        ,\n",
    "        0.        ,  0.        ,  0.        ,  0.        ,  0.        ,\n",
    "        0.        ,  0.        ,  0.        ,  0.        ,  0.        ])"
   ]
  },
  {
   "cell_type": "code",
   "execution_count": 36,
   "metadata": {},
   "outputs": [
    {
     "data": {
      "image/png": "[encoded data removed]",
      "text/plain": [
       "<Figure size 432x288 with 1 Axes>"
      ]
     },
     "metadata": {
      "needs_background": "light"
     },
     "output_type": "display_data"
    }
   ],
   "source": [
    "import seaborn as sb\n",
    "\n",
    "# Next we'll assign trial values for these.\n",
    "mu = 155 ; sig = 6\n",
    "# We'll keep a track of these so we can plot their evolution.\n",
    "p = np.array([[mu, sig]])\n",
    "\n",
    "# Plot the histogram for our parameter guess\n",
    "sb.distplot(f(x, mu, sig))\n",
    "#plt.hist(f(x, mu, sig), bins=30)\n",
    "# Do a few rounds of steepest descent.\n",
    "for i in range(50) :\n",
    "    dmu, dsig = steepest_step(x, y, mu, sig, 2000)\n",
    "    mu += dmu\n",
    "    sig += dsig\n",
    "    p = np.append(p, [[mu,sig]], axis=0)\n",
    "# Plot the path through parameter space.\n",
    "#contour(f, p)\n",
    "# Plot the final histogram.\n",
    "#plt.hist(x)\n",
    "#plt.hist(f(x, mu, sig))"
   ]
  },
  {
   "cell_type": "markdown",
   "metadata": {},
   "source": [
    "Note that the path taken through parameter space is not necesarily the most direct path, as with steepest descent we always move perpendicular to the contours."
   ]
  }
 ],
 "metadata": {
  "coursera": {
   "course_slug": "maths4ml-calculus",
   "graded_item_id": "ZRSga",
   "launcher_item_id": "KHwLd",
   "part_id": "ToENv"
  },
  "kernelspec": {
   "display_name": "Python 3",
   "language": "python",
   "name": "python3"
  },
  "language_info": {
   "codemirror_mode": {
    "name": "ipython",
    "version": 3
   },
   "file_extension": ".py",
   "mimetype": "text/x-python",
   "name": "python",
   "nbconvert_exporter": "python",
   "pygments_lexer": "ipython3",
   "version": "3.7.2"
  }
 },
 "nbformat": 4,
 "nbformat_minor": 1
}
